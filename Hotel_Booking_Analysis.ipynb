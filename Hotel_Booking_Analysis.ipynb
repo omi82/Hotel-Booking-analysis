{
  "nbformat": 4,
  "nbformat_minor": 0,
  "metadata": {
    "colab": {
      "private_outputs": true,
      "provenance": [],
      "collapsed_sections": [
        "vncDsAP0Gaoa",
        "FJNUwmbgGyua",
        "w6K7xa23Elo4",
        "yQaldy8SH6Dl",
        "PH-0ReGfmX4f",
        "mDgbUHAGgjLW",
        "O_i_v8NEhb9l",
        "HhfV-JJviCcP",
        "Y3lxredqlCYt",
        "3RnN4peoiCZX",
        "x71ZqKXriCWQ",
        "7hBIi_osiCS2",
        "JlHwYmJAmNHm",
        "35m5QtbWiB9F",
        "PoPl-ycgm1ru",
        "H0kj-8xxnORC",
        "nA9Y7ga8ng1Z",
        "PBTbrJXOngz2",
        "u3PMJOP6ngxN",
        "dauF4eBmngu3",
        "bKJF3rekwFvQ",
        "MSa1f5Uengrz",
        "GF8Ens_Soomf",
        "0wOQAZs5pc--",
        "K5QZ13OEpz2H",
        "lQ7QKXXCp7Bj",
        "448CDAPjqfQr",
        "KSlN3yHqYklG",
        "t6dVpIINYklI",
        "ijmpgYnKYklI",
        "-JiQyfWJYklI",
        "EM7whBJCYoAo",
        "fge-S5ZAYoAp",
        "85gYPyotYoAp",
        "RoGjAbkUYoAp",
        "4Of9eVA-YrdM",
        "iky9q4vBYrdO",
        "F6T5p64dYrdO",
        "y-Ehk30pYrdP",
        "bamQiAODYuh1",
        "QHF8YVU7Yuh3",
        "GwzvFGzlYuh3",
        "qYpmQ266Yuh3",
        "OH-pJp9IphqM",
        "bbFf2-_FphqN",
        "_ouA3fa0phqN",
        "Seke61FWphqN",
        "PIIx-8_IphqN",
        "t27r6nlMphqO",
        "r2jJGEOYphqO",
        "b0JNsNcRphqO",
        "BZR9WyysphqO",
        "jj7wYXLtphqO",
        "eZrbJ2SmphqO",
        "rFu4xreNphqO",
        "YJ55k-q6phqO",
        "gCFgpxoyphqP",
        "OVtJsKN_phqQ",
        "lssrdh5qphqQ",
        "U2RJ9gkRphqQ",
        "1M8mcRywphqQ",
        "tgIPom80phqQ",
        "JMzcOPDDphqR",
        "x-EpHcCOp1ci",
        "X_VqEhTip1ck",
        "8zGJKyg5p1ck",
        "PVzmfK_Ep1ck",
        "n3dbpmDWp1ck",
        "ylSl6qgtp1ck",
        "ZWILFDl5p1ck",
        "M7G43BXep1ck",
        "Ag9LCva-p1cl",
        "E6MkPsBcp1cl",
        "2cELzS2fp1cl",
        "3MPXvC8up1cl",
        "NC_X3p0fY2L0",
        "UV0SzAkaZNRQ",
        "YPEH6qLeZNRQ",
        "q29F0dvdveiT",
        "EXh0U9oCveiU",
        "22aHeOlLveiV",
        "JcMwzZxoAimU",
        "8G2x9gOozGDZ",
        "gCX9965dhzqZ",
        "gIfDvo9L0UH2"
      ],
      "include_colab_link": true
    },
    "kernelspec": {
      "name": "python3",
      "display_name": "Python 3"
    },
    "language_info": {
      "name": "python"
    }
  },
  "cells": [
    {
      "cell_type": "markdown",
      "metadata": {
        "id": "view-in-github",
        "colab_type": "text"
      },
      "source": [
        "<a href=\"https://colab.research.google.com/github/omi82/Hotel-Booking-analysis/blob/main/Hotel_Booking_Analysis.ipynb\" target=\"_parent\"><img src=\"https://colab.research.google.com/assets/colab-badge.svg\" alt=\"Open In Colab\"/></a>"
      ]
    },
    {
      "cell_type": "markdown",
      "source": [
        "\n",
        "# **Project Name**    - Hotel Booking Analysis\n",
        "\n"
      ],
      "metadata": {
        "id": "vncDsAP0Gaoa"
      }
    },
    {
      "cell_type": "markdown",
      "source": [
        "##### **Project Type**    - EDA\n",
        "##### **Contribution**    - Individual\n",
        "##### **Name -** Omendra Puri\n"
      ],
      "metadata": {
        "id": "beRrZCGUAJYm"
      }
    },
    {
      "cell_type": "markdown",
      "source": [
        "# **Project Summary -**"
      ],
      "metadata": {
        "id": "FJNUwmbgGyua"
      }
    },
    {
      "cell_type": "markdown",
      "source": [
        "This project involves the analysis of a hotel booking dataset to gain insights into customer booking behavior and channel preferences. The project aims to:\n",
        "\n",
        "1. Define the business objectives of the study.\n",
        "2. Clean and prepare the data by handling missing values, outliers, etc.\n",
        "3. Perform exploratory data analysis (EDA) to investigate relationships between features, generate new variables, and present the data in a comprehensible format.\n",
        "4. Provide observations and recommendations based on the EDA findings.\n",
        "\n",
        "**Key Activities:**\n",
        "\n",
        "- Data Cleaning:\n",
        "    - Handling missing values\n",
        "    - Treating outliers\n",
        "    - Checking for data consistency\n",
        "- Exploratory Data Analysis:\n",
        "    - Analyzing booking trends based on various factors such as hotel type, arrival month, lead time, etc.\n",
        "    - Identifying relationships between features using statistical methods and visualizations.\n",
        "    - Creating new variables to capture additional insights.\n",
        "- Presentation of Findings:\n",
        "    - Summarizing key observations from the EDA.\n",
        "    - Providing recommendations for improving hotel booking strategies.\n",
        "\n",
        "**Expected Outcomes:**\n",
        "\n",
        "- Improved understanding of customer booking behavior and preferences.\n",
        "- Identification of key factors influencing hotel bookings.\n",
        "- Recommendations for optimizing hotel revenue and occupancy."
      ],
      "metadata": {
        "id": "F6v_1wHtG2nS"
      }
    },
    {
      "cell_type": "markdown",
      "source": [
        "# **GitHub Link -**"
      ],
      "metadata": {
        "id": "w6K7xa23Elo4"
      }
    },
    {
      "cell_type": "markdown",
      "source": [
        "https://github.com/omi82/Hotel-Booking-analysis/blob/main/Hotel_Booking_analysis1.ipynb"
      ],
      "metadata": {
        "id": "h1o69JH3Eqqn"
      }
    },
    {
      "cell_type": "markdown",
      "source": [
        "# **Problem Statement**\n"
      ],
      "metadata": {
        "id": "yQaldy8SH6Dl"
      }
    },
    {
      "cell_type": "markdown",
      "source": [
        "* <b> Have you ever wondered when the best time of year to book a hotel room is? Or the optimal length of stay in order to get the best daily rate? What if you wanted to predict whether or not a hotel was likely to receive a disproportionately high number of special requests? This hotel booking dataset can help you explore those questions!\n",
        "\n",
        " <b>This data set contains booking information for a city hotel and a resort hotel, and includes information such as when the booking was made, length of stay, the number of adults, children, and/or babies, and the number of available parking spaces, among other things. All personally identifying information has been removed from the data. </b>\n",
        "\n",
        " <b> Explore and analyze the data to discover important factors that govern the bookings. </b>"
      ],
      "metadata": {
        "id": "DpeJGUA3kjGy"
      }
    },
    {
      "cell_type": "markdown",
      "source": [
        "#### **Define Your Business Objective?**"
      ],
      "metadata": {
        "id": "PH-0ReGfmX4f"
      }
    },
    {
      "cell_type": "markdown",
      "source": [
        "\n",
        "The objective of this data set is to gain insights into hotel booking patterns and cancellations, and to identify the factors that influence these patterns. The goal is to develop predictive models that can accurately predict booking cancellations and to identify potential areas for improvement in hotel policies and practices. Ultimately, the objective is to increase revenue and profitability for hotels by reducing booking cancellations and improving overall customer satisfaction."
      ],
      "metadata": {
        "id": "PhDvGCAqmjP1"
      }
    },
    {
      "cell_type": "markdown",
      "source": [
        "# **General Guidelines** : -  "
      ],
      "metadata": {
        "id": "mDgbUHAGgjLW"
      }
    },
    {
      "cell_type": "markdown",
      "source": [
        "1.   Well-structured, formatted, and commented code is required.\n",
        "2.   Exception Handling, Production Grade Code & Deployment Ready Code will be a plus. Those students will be awarded some additional credits.\n",
        "     \n",
        "     The additional credits will have advantages over other students during Star Student selection.\n",
        "       \n",
        "             [ Note: - Deployment Ready Code is defined as, the whole .ipynb notebook should be executable in one go\n",
        "                       without a single error logged. ]\n",
        "\n",
        "3.   Each and every logic should have proper comments.\n",
        "4. You may add as many number of charts you want. Make Sure for each and every chart the following format should be answered.\n",
        "        \n",
        "\n",
        "```\n",
        "# Chart visualization code\n",
        "```\n",
        "            \n",
        "\n",
        "*   Why did you pick the specific chart?\n",
        "*   What is/are the insight(s) found from the chart?\n",
        "* Will the gained insights help creating a positive business impact?\n",
        "Are there any insights that lead to negative growth? Justify with specific reason.\n",
        "\n",
        "5. You have to create at least 20 logical & meaningful charts having important insights.\n",
        "\n",
        "\n",
        "[ Hints : - Do the Vizualization in  a structured way while following \"UBM\" Rule.\n",
        "\n",
        "U - Univariate Analysis,\n",
        "\n",
        "B - Bivariate Analysis (Numerical - Categorical, Numerical - Numerical, Categorical - Categorical)\n",
        "\n",
        "M - Multivariate Analysis\n",
        " ]\n",
        "\n",
        "\n",
        "\n"
      ],
      "metadata": {
        "id": "ZrxVaUj-hHfC"
      }
    },
    {
      "cell_type": "markdown",
      "source": [
        "# ***Let's Begin !***"
      ],
      "metadata": {
        "id": "O_i_v8NEhb9l"
      }
    },
    {
      "cell_type": "markdown",
      "source": [
        "## ***1. Know Your Data***"
      ],
      "metadata": {
        "id": "HhfV-JJviCcP"
      }
    },
    {
      "cell_type": "markdown",
      "source": [
        "### Import Libraries"
      ],
      "metadata": {
        "id": "Y3lxredqlCYt"
      }
    },
    {
      "cell_type": "code",
      "source": [
        "# Import Libraries\n",
        "import numpy as np\n",
        "import pandas as pd\n",
        "import seaborn as sns\n",
        "import matplotlib.pyplot as plt\n",
        "%matplotlib inline\n",
        "import plotly.express as px\n",
        "import folium"
      ],
      "metadata": {
        "id": "M8Vqi-pPk-HR"
      },
      "execution_count": null,
      "outputs": []
    },
    {
      "cell_type": "markdown",
      "source": [
        "### Dataset Loading"
      ],
      "metadata": {
        "id": "3RnN4peoiCZX"
      }
    },
    {
      "cell_type": "code",
      "source": [
        "# Mounted our google drive\n",
        "from google.colab import drive\n",
        "drive.mount('/content/drive')"
      ],
      "metadata": {
        "id": "qxhKlVOwKIBa"
      },
      "execution_count": null,
      "outputs": []
    },
    {
      "cell_type": "code",
      "source": [
        "# Load Dataset\n",
        "hotel_booking_df = pd.read_csv('/content/drive/MyDrive/almabetter/capstone project/EDA/Hotel Bookings.csv')\n",
        "\n",
        "# copy original dataset to new dataset\n",
        "df = hotel_booking_df.copy()"
      ],
      "metadata": {
        "id": "4CkvbW_SlZ_R"
      },
      "execution_count": null,
      "outputs": []
    },
    {
      "cell_type": "markdown",
      "source": [
        "### Dataset First View"
      ],
      "metadata": {
        "id": "x71ZqKXriCWQ"
      }
    },
    {
      "cell_type": "code",
      "source": [
        "# Dataset First Look\n",
        "df.head(5)"
      ],
      "metadata": {
        "id": "LWNFOSvLl09H"
      },
      "execution_count": null,
      "outputs": []
    },
    {
      "cell_type": "markdown",
      "source": [
        "### Dataset Rows & Columns count"
      ],
      "metadata": {
        "id": "7hBIi_osiCS2"
      }
    },
    {
      "cell_type": "code",
      "source": [
        "# Dataset Rows & Columns count\n",
        "df.shape\n"
      ],
      "metadata": {
        "id": "Kllu7SJgmLij"
      },
      "execution_count": null,
      "outputs": []
    },
    {
      "cell_type": "code",
      "source": [
        "# Dataset Rows & Columns count\n",
        "print(\"Dataset_Row_count:    \",df.shape[0])\n",
        "print(\"Dataset_Column_count: \",df.shape[1])"
      ],
      "metadata": {
        "id": "Wo0n_Y5tICVN"
      },
      "execution_count": null,
      "outputs": []
    },
    {
      "cell_type": "markdown",
      "source": [
        "### Dataset Information"
      ],
      "metadata": {
        "id": "JlHwYmJAmNHm"
      }
    },
    {
      "cell_type": "code",
      "source": [
        "# Dataset Info\n",
        "df.info()"
      ],
      "metadata": {
        "id": "e9hRXRi6meOf"
      },
      "execution_count": null,
      "outputs": []
    },
    {
      "cell_type": "markdown",
      "source": [
        "#### Duplicate Values"
      ],
      "metadata": {
        "id": "35m5QtbWiB9F"
      }
    },
    {
      "cell_type": "code",
      "source": [
        "# Dataset Duplicate Value Count\n",
        "df.duplicated().value_counts()           # True means duplicated rows"
      ],
      "metadata": {
        "id": "1sLdpKYkmox0"
      },
      "execution_count": null,
      "outputs": []
    },
    {
      "cell_type": "code",
      "source": [
        "# Visualizing the duplicate values\n",
        "plt.figure(figsize=(5,4))\n",
        "sns.countplot(x=df.duplicated())"
      ],
      "metadata": {
        "id": "tQodOKk2gGun"
      },
      "execution_count": null,
      "outputs": []
    },
    {
      "cell_type": "markdown",
      "source": [
        "So we have 31994 are duplicate row  in our  dataset"
      ],
      "metadata": {
        "id": "dW-yyy7kOLiM"
      }
    },
    {
      "cell_type": "markdown",
      "source": [
        "#### Missing Values/Null Values"
      ],
      "metadata": {
        "id": "PoPl-ycgm1ru"
      }
    },
    {
      "cell_type": "code",
      "source": [
        "# Missing Values/Null Values Count\n",
        "Missing_Values = df.isnull().sum().sort_values(ascending=False)\n",
        "Missing_Values[:5]"
      ],
      "metadata": {
        "id": "GgHWkxvamxVg"
      },
      "execution_count": null,
      "outputs": []
    },
    {
      "cell_type": "code",
      "source": [
        "import missingno as msno\n",
        "\n",
        "# Visualize missing values as a matrix\n",
        "msno.bar(df, figsize = (15,4))\n",
        "\n",
        "# Display the plot\n",
        "plt.show()"
      ],
      "metadata": {
        "id": "qRaRue1QIkV0"
      },
      "execution_count": null,
      "outputs": []
    },
    {
      "cell_type": "markdown",
      "source": [
        "### What did you know about your dataset?"
      ],
      "metadata": {
        "id": "H0kj-8xxnORC"
      }
    },
    {
      "cell_type": "markdown",
      "source": [
        "- This dataset conatins 119390 rows and 32 columns\n",
        "-All the columns are diveded into three Dtypes(Object, Float64 and Int64)\n",
        "-This dataset have duplicate as well as missing values. There are 31994 duplicate values and four columns have missing values.\n",
        "-The missing values columns are company, agent, country and children and the missing values are 112593, 16340, 488 & 4 respectively."
      ],
      "metadata": {
        "id": "gfoNAAC-nUe_"
      }
    },
    {
      "cell_type": "markdown",
      "source": [
        "## ***2. Understanding Your Variables***"
      ],
      "metadata": {
        "id": "nA9Y7ga8ng1Z"
      }
    },
    {
      "cell_type": "code",
      "source": [
        "# Dataset Columns\n",
        "list(df.columns)"
      ],
      "metadata": {
        "id": "j7xfkqrt5Ag5"
      },
      "execution_count": null,
      "outputs": []
    },
    {
      "cell_type": "code",
      "source": [
        "# Dataset Describe\n",
        "df.describe().T"
      ],
      "metadata": {
        "id": "DnOaZdaE5Q5t"
      },
      "execution_count": null,
      "outputs": []
    },
    {
      "cell_type": "markdown",
      "source": [
        "### Variables Description"
      ],
      "metadata": {
        "id": "PBTbrJXOngz2"
      }
    },
    {
      "cell_type": "markdown",
      "source": [
        "1. **hotel** : *Resort Hotel or City Hotel*\n",
        "\n",
        "2. **is_canceled** : *Value indicating if the booking was canceled (1) or not (0)*\n",
        "\n",
        "3. **lead_time** :*The number of days between the booking date and the arrival date*\n",
        "\n",
        "4. **arrival_date_year** : *Year of arrival date*\n",
        "\n",
        "5. **arrival_date_month** : *Month of arrival date*\n",
        "\n",
        "6. **arrival_date_week_number** : *Week number of year for arrival date*\n",
        "\n",
        "7. **arrival_date_day_of_month** : *Day of arrival date*\n",
        "\n",
        "8. **stays_in_weekend_nights** : *Number of weekend nights (Saturday or Sunday) the guest stayed or booked to stay at the hotel*\n",
        "\n",
        "9. **stays_in_week_nights** : *Number of week nights (Monday to Friday) the guest stayed or booked to stay at the hotel*\n",
        "\n",
        "10. **adults** : *Number of adults*\n",
        "\n",
        "11. **children** : *Number of children*\n",
        "\n",
        "12. **babies** : *Number of babies*\n",
        "\n",
        "13. **meal** : *The type of meal booked (e.g., Bed & Breakfast, Half board):*\n",
        "\n",
        "14. **country** : *Country of origin.*\n",
        "\n",
        "15. **market_segment** : *Market segment designation. In categories, the term “TA” means “Travel Agents” and “TO” means “Tour Operators”*\n",
        "\n",
        "16. **distribution_channel** : *Booking distribution channel. The term “TA” means “Travel Agents” and “TO” means “Tour Operators”*\n",
        "\n",
        "17. **is_repeated_guest** : *Value indicating if the booking name was from a repeated guest (1) or not (0)*\n",
        "\n",
        "18. **previous_cancellations** : *Number of previous bookings that were cancelled by the customer prior to the current booking*\n",
        "\n",
        "19. **previous_bookings_not_canceled** : *Number of previous bookings not cancelled by the customer prior to the current booking*\n",
        "\n",
        "20. **reserved_room_type** : *Code of room type reserved. Code is presented instead of designation for anonymity reasons.*\n",
        "\n",
        "21. **assigned_room_type** : *Code for the type of room assigned to the booking.*\n",
        "\n",
        "22. **booking_changes** : *Number of changes/amendments made to the booking from the moment the booking was entered on the PMS until the moment of check-in or cancellation*\n",
        "\n",
        "23. **deposit_type** : *Indication on if the customer made a deposit to guarantee the booking.*\n",
        "\n",
        "24. **agent** : *ID of the travel agency that made the booking*\n",
        "\n",
        "25. **company** : *ID of the company/entity that made the booking or responsible for paying the booking.*\n",
        "\n",
        "26. **days_in_waiting_list** : *Number of days the booking was in the waiting list before it was confirmed to the customer*\n",
        "\n",
        "27. **customer_type** : *Type of booking, assuming one of four categories*\n",
        "\n",
        "\n",
        "28. **adr** : *The average daily rate (i.e., the sum of all lodging transactions divided by the total number of staying nights)*\n",
        "\n",
        "29. **required_car_parking_spaces** : *Number of car parking spaces required by the customer*\n",
        "\n",
        "30. **total_of_special_requests** :*Number of special requests made by the customer (e.g. twin bed or high floor)*\n",
        "\n",
        "31. **reservation_status** : *Reservation last status, assuming one of three categories*\n",
        "* Canceled – booking was canceled by the customer\n",
        "* Check-Out – customer has checked in but already departed\n",
        "* No-Show – customer did not check-in and did inform the hotel of the reason why\n",
        "\n",
        "\n",
        "\n",
        "\n",
        "\n",
        "32. **reservation_status_date** : *Date at which the last status was set. This variable can be used in conjunction with the ReservationStatus to understand when was the booking canceled or when did the customer checked-out of the hotel*"
      ],
      "metadata": {
        "id": "aJV4KIxSnxay"
      }
    },
    {
      "cell_type": "markdown",
      "source": [
        "### Check Unique Values for each variable."
      ],
      "metadata": {
        "id": "u3PMJOP6ngxN"
      }
    },
    {
      "cell_type": "code",
      "source": [
        "# Check Unique Values for each variable.\n",
        "unique_values = df.nunique()\n",
        "unique_values"
      ],
      "metadata": {
        "id": "zms12Yq5n-jE"
      },
      "execution_count": null,
      "outputs": []
    },
    {
      "cell_type": "markdown",
      "source": [
        "## 3. ***Data Wrangling***"
      ],
      "metadata": {
        "id": "afVAn86unRC0"
      }
    },
    {
      "cell_type": "markdown",
      "source": [
        "### Data Wrangling Code"
      ],
      "metadata": {
        "id": "ZI2NfYnZnYfy"
      }
    },
    {
      "cell_type": "markdown",
      "source": [
        "**Data Cleaning**"
      ],
      "metadata": {
        "id": "jChiuW7Unlh1"
      }
    },
    {
      "cell_type": "code",
      "source": [
        "# To fill the null value in the column, let's check which columns has null value, we have all ready store the same\n",
        "Missing_Values[:5]"
      ],
      "metadata": {
        "id": "wWLszzvmnwCE"
      },
      "execution_count": null,
      "outputs": []
    },
    {
      "cell_type": "code",
      "source": [
        "# let's check, what is the percentage of null value in each column\n",
        "percent_missing = Missing_Values * 100 / len(df)\n",
        "percent_missing[:5]"
      ],
      "metadata": {
        "id": "hpfDft6gn2lT"
      },
      "execution_count": null,
      "outputs": []
    },
    {
      "cell_type": "code",
      "source": [
        "# It is better to drop company column there are extremely high values are missing compared to the number of rows\n",
        "df.drop(['company'], axis=1, inplace=True)"
      ],
      "metadata": {
        "id": "qiIRzHPXn5R7"
      },
      "execution_count": null,
      "outputs": []
    },
    {
      "cell_type": "code",
      "source": [
        "# Replacing null values of agent and children with value 0\n",
        "df[['agent','children']] = df[['agent', 'children']].fillna(0)"
      ],
      "metadata": {
        "id": "hEh9RLd4oACT"
      },
      "execution_count": null,
      "outputs": []
    },
    {
      "cell_type": "code",
      "source": [
        "# Replacing null values of country column with other\n",
        "df[['country']] = df[['country']].fillna('other')"
      ],
      "metadata": {
        "id": "smX0hm_8oELL"
      },
      "execution_count": null,
      "outputs": []
    },
    {
      "cell_type": "code",
      "source": [
        "#Checking\n",
        "df.isnull().sum().sort_values(ascending=False)[:4]"
      ],
      "metadata": {
        "id": "yVmKX0QCoIuj"
      },
      "execution_count": null,
      "outputs": []
    },
    {
      "cell_type": "code",
      "source": [
        "# Drop the duplicate value\n",
        "df=df.drop_duplicates()\n",
        "df"
      ],
      "metadata": {
        "id": "qJN8ETkUoN3q"
      },
      "execution_count": null,
      "outputs": []
    },
    {
      "cell_type": "code",
      "source": [
        "# Checking the shape of the dataset whose combining value of adults, babies and children column is 0\n",
        "df[df['adults']+df['children']+df['babies']==0].shape"
      ],
      "metadata": {
        "id": "WB1h6NIIoTmn"
      },
      "execution_count": null,
      "outputs": []
    },
    {
      "cell_type": "code",
      "source": [
        "# Checking the shape of updated data set\n",
        "df.shape"
      ],
      "metadata": {
        "id": "h-ikcgLqoX_g"
      },
      "execution_count": null,
      "outputs": []
    },
    {
      "cell_type": "code",
      "source": [
        "# Dropping the row where combining values of adults, babies and children is 0 beacause there is no booking\n",
        "df.drop(df[df['adults']+df['babies']+df['children']==0].index,inplace=True)"
      ],
      "metadata": {
        "id": "W8vOvIGpojkp"
      },
      "execution_count": null,
      "outputs": []
    },
    {
      "cell_type": "code",
      "source": [
        "df.shape      # checking row is drop"
      ],
      "metadata": {
        "id": "n_AFzQGPon0-"
      },
      "execution_count": null,
      "outputs": []
    },
    {
      "cell_type": "code",
      "source": [
        "# Checking total drop row\n",
        "\n",
        "87389-87223"
      ],
      "metadata": {
        "id": "D7jQhBXVorGT"
      },
      "execution_count": null,
      "outputs": []
    },
    {
      "cell_type": "code",
      "source": [
        "# Checking datetype of column 'reservation_status_date' from object to date_type\n",
        "df['reservation_status_date'] = pd.to_datetime(df['reservation_status_date'],format='%Y-%m-%d')"
      ],
      "metadata": {
        "id": "uzow6OP1ovk1"
      },
      "execution_count": null,
      "outputs": []
    },
    {
      "cell_type": "code",
      "source": [
        "# Changing agent and children data type float64 into int64\n",
        "df[['agent','children']]=df[['agent','children']].astype('int64')"
      ],
      "metadata": {
        "id": "8spN2bzUo1sW"
      },
      "execution_count": null,
      "outputs": []
    },
    {
      "cell_type": "code",
      "source": [
        "df.info()  # For cheking changes in reservation_status_date,agent and children datatype"
      ],
      "metadata": {
        "id": "2tfSBsavo73x"
      },
      "execution_count": null,
      "outputs": []
    },
    {
      "cell_type": "markdown",
      "source": [
        "### *adding some important columns*"
      ],
      "metadata": {
        "id": "zUV54DRykIcr"
      }
    },
    {
      "cell_type": "code",
      "source": [
        "# Adding total stay day in hotel\n",
        "df['total_stay'] = df['stays_in_week_nights'] + df['stays_in_weekend_nights']"
      ],
      "metadata": {
        "id": "UPa1JLMlkRNh"
      },
      "execution_count": null,
      "outputs": []
    },
    {
      "cell_type": "code",
      "source": [
        "# Adding total number of people\n",
        "df['total_people']=df['adults']+df['babies']+df['children']"
      ],
      "metadata": {
        "id": "7HrFWiNckVoL"
      },
      "execution_count": null,
      "outputs": []
    },
    {
      "cell_type": "code",
      "source": [
        "# Checking the shape of the dataset\n",
        "df.shape"
      ],
      "metadata": {
        "id": "Fy7I7HKSkZdx"
      },
      "execution_count": null,
      "outputs": []
    },
    {
      "cell_type": "markdown",
      "source": [
        "### What all manipulations have you done and insights you found?"
      ],
      "metadata": {
        "id": "MSa1f5Uengrz"
      }
    },
    {
      "cell_type": "markdown",
      "source": [
        "- Here, Company, Agent, Country and Children columns have missing values. Company columns have more than 94% missing values. So, We drop the company columns. Agent columns have more than 13% missing values and Country and Children columns have less than 1% missing values. So missing values of Agent and Children columns are replace with zero and Country values replace with other.\n",
        "- Drop the duplicate values.\n",
        "-Dropping the row where combining values of adults, babies and children is 0 beacause there is no booking\n",
        "-Adding new columns total_stay day in hotel (stays_in_week_nights + stays_in_weekend_nights)\n",
        "- And total_people (adults + children + babies)\n",
        "-New shape of dataset have 87223 rows and 33 columns\n"
      ],
      "metadata": {
        "id": "LbyXE7I1olp8"
      }
    },
    {
      "cell_type": "markdown",
      "source": [
        "## ***4. Data Vizualization, Storytelling & Experimenting with charts : Understand the relationships between variables***"
      ],
      "metadata": {
        "id": "GF8Ens_Soomf"
      }
    },
    {
      "cell_type": "markdown",
      "source": [
        "#### Chart - 1 Most Preffered Hotel"
      ],
      "metadata": {
        "id": "0wOQAZs5pc--"
      }
    },
    {
      "cell_type": "code",
      "source": [
        "# Chart - 1 visualization code\n",
        "# create a pie chart\n",
        "df['hotel'].value_counts().plot.pie(figsize=(5,7),fontsize=25, explode=[0.05,0.05], autopct='%1.1f%%', shadow=True)\n",
        "\n",
        "# add a title\n",
        "plt.title('pie chart for more preffered hotel ')\n",
        "\n",
        "# show the chart\n",
        "plt.show()"
      ],
      "metadata": {
        "id": "7v_ESjsspbW7"
      },
      "execution_count": null,
      "outputs": []
    },
    {
      "cell_type": "markdown",
      "source": [
        "##### 1. Why did you pick the specific chart?"
      ],
      "metadata": {
        "id": "K5QZ13OEpz2H"
      }
    },
    {
      "cell_type": "markdown",
      "source": [
        "The pie chart is an effective way to visualize the distribution of categorical data. In this case, it helps us to see which hotel is preferred more by the customers."
      ],
      "metadata": {
        "id": "XESiWehPqBRc"
      }
    },
    {
      "cell_type": "markdown",
      "source": [
        "##### 2. What is/are the insight(s) found from the chart?"
      ],
      "metadata": {
        "id": "lQ7QKXXCp7Bj"
      }
    },
    {
      "cell_type": "markdown",
      "source": [
        "- The City Hotel is more preferred than the Resort Hotel.\n",
        "- Around 61.1% of the customers prefer City Hotel, while only 38.9% prefer Resort Hotel."
      ],
      "metadata": {
        "id": "C_j1G7yiqdRP"
      }
    },
    {
      "cell_type": "markdown",
      "source": [
        "##### 3. Will the gained insights help creating a positive business impact?\n",
        "Are there any insights that lead to negative growth? Justify with specific reason."
      ],
      "metadata": {
        "id": "448CDAPjqfQr"
      }
    },
    {
      "cell_type": "markdown",
      "source": [
        "Yes, for both hotel this chart show some positive bussiness impact.\n",
        "\n",
        "- The hotel management can focus more on improving the facilities and services of the City Hotel to attract more customers.\n",
        "- The hotel management can also consider expanding the City Hotel or opening more City Hotels in other locations.\n",
        "- The hotel management can also consider offering special discounts or packages for the Resort Hotel to attract more customers.\n",
        "\n",
        "Therefore, the gained insights from this chart will help the hotel business to increase its revenue and profitability."
      ],
      "metadata": {
        "id": "3cspy4FjqxJW"
      }
    },
    {
      "cell_type": "markdown",
      "source": [
        "#### Chart - 2 For Reapeted Guest"
      ],
      "metadata": {
        "id": "KSlN3yHqYklG"
      }
    },
    {
      "cell_type": "code",
      "source": [
        "# Chart - 2 visualization code\n",
        "# create a pie chart\n",
        "df['is_repeated_guest'].value_counts().plot.pie(figsize=(5,7),fontsize=25, explode=[0.05,0.05], autopct='%1.1f%%', shadow=False)\n",
        "\n",
        "# add a title\n",
        "plt.title('pie chart for repeated guest ')\n",
        "\n",
        "# show the chart\n",
        "plt.show()"
      ],
      "metadata": {
        "id": "R4YgtaqtYklH"
      },
      "execution_count": null,
      "outputs": []
    },
    {
      "cell_type": "code",
      "source": [
        "# repeated guest=1\n",
        "#not repeated guest=0\n",
        "#groupby hotel\n",
        "repeated_guests_df=df[df['is_repeated_guest']==1].groupby('hotel').size().reset_index().rename(columns={0:'number_of_repated_guests'})\n",
        "\n",
        "#set plot size adn plot barplot\n",
        "plt.figure(figsize=(5,4))\n",
        "sns.barplot(x=repeated_guests_df['hotel'],y=repeated_guests_df['number_of_repated_guests'])\n",
        "\n",
        "# set labels\n",
        "plt.xlabel('Hotel type')\n",
        "plt.ylabel('count of repeated guests')\n",
        "plt.title(\"Most repeated guests for each hotel\")"
      ],
      "metadata": {
        "id": "klfr-TDxdMPh"
      },
      "execution_count": null,
      "outputs": []
    },
    {
      "cell_type": "markdown",
      "source": [
        "##### 1. Why did you pick the specific chart?"
      ],
      "metadata": {
        "id": "t6dVpIINYklI"
      }
    },
    {
      "cell_type": "markdown",
      "source": [
        "- The pie chart is an effective way to visualize the distribution of categorical data. In this case, it helps us to see which hotel is preferred more by the repeated customers.\n",
        "- Bar plot is used to compare the number of repeated guests for each hotel."
      ],
      "metadata": {
        "id": "5aaW0BYyYklI"
      }
    },
    {
      "cell_type": "markdown",
      "source": [
        "##### 2. What is/are the insight(s) found from the chart?"
      ],
      "metadata": {
        "id": "ijmpgYnKYklI"
      }
    },
    {
      "cell_type": "markdown",
      "source": [
        "- From the pie chart, we can see that around 3.9% of the customers are repeated guests.\n",
        "- From the bar plot, we can see that the City Hotel and the Resort Hotel have almost equal repeated guest."
      ],
      "metadata": {
        "id": "PSx9atu2YklI"
      }
    },
    {
      "cell_type": "markdown",
      "source": [
        "##### 3. Will the gained insights help creating a positive business impact?\n",
        "Are there any insights that lead to negative growth? Justify with specific reason."
      ],
      "metadata": {
        "id": "-JiQyfWJYklI"
      }
    },
    {
      "cell_type": "markdown",
      "source": [
        "Yes, the gained insights from this chart will help the hotel business to increase its revenue and profitability.\n",
        "\n",
        "- The hotel management can focus on improving the facilities and services of both hotels to attract more repeated guests.\n",
        "- The hotel management can also consider offering loyalty programs or discounts to repeated guests.\n",
        "- The hotel management can also consider conducting surveys or gathering feedback from repeated guests to understand their needs and preferences better.\n",
        "\n",
        "Therefore, the gained insights from this chart will help the hotel business to improve its customer satisfaction and retention, which will ultimately lead to increased revenue and profitability."
      ],
      "metadata": {
        "id": "BcBbebzrYklV"
      }
    },
    {
      "cell_type": "markdown",
      "source": [
        "#### Chart - 3 Required Car Parking Spaces"
      ],
      "metadata": {
        "id": "EM7whBJCYoAo"
      }
    },
    {
      "cell_type": "code",
      "source": [
        "# Chart - 3 visualization code\n",
        "# Create a bar chart\n",
        "plt.figure(figsize=(8, 6))\n",
        "sns.barplot(x=df['required_car_parking_spaces'].value_counts().index, y=df['required_car_parking_spaces'].value_counts().values)\n",
        "\n",
        "# Add labels and title\n",
        "plt.xlabel('Required Car Parking Spaces')\n",
        "plt.ylabel('Number of Bookings')\n",
        "plt.title('Required Car Parking Spaces Distribution')\n",
        "\n",
        "# Add percentage values above each bar\n",
        "for i in range(len(df['required_car_parking_spaces'].value_counts())):\n",
        "    plt.text(i, df['required_car_parking_spaces'].value_counts().values[i], f'{round(df[\"required_car_parking_spaces\"].value_counts().values[i] / df[\"required_car_parking_spaces\"].value_counts().values.sum() * 100, 2)}%', ha='center', va='bottom')\n",
        "\n",
        "# Show the chart\n",
        "plt.show()\n"
      ],
      "metadata": {
        "id": "t6GMdE67YoAp"
      },
      "execution_count": null,
      "outputs": []
    },
    {
      "cell_type": "markdown",
      "source": [
        "##### 1. Why did you pick the specific chart?"
      ],
      "metadata": {
        "id": "fge-S5ZAYoAp"
      }
    },
    {
      "cell_type": "markdown",
      "source": [
        "\n",
        "The bar chart is an effective way to visualize the distribution of categorical data. In this case, it helps us to see how many customers required different numbers of car parking spaces."
      ],
      "metadata": {
        "id": "5dBItgRVYoAp"
      }
    },
    {
      "cell_type": "markdown",
      "source": [
        "##### 2. What is/are the insight(s) found from the chart?"
      ],
      "metadata": {
        "id": "85gYPyotYoAp"
      }
    },
    {
      "cell_type": "markdown",
      "source": [
        "- Most of the customers (around 91.62%) did not require any car parking spaces.\n",
        "- A small percentage of customers (around 8.34%) required 1 car parking spaces.\n",
        "- Only a very small percentage of customers (less than 0.03%) required 2 or more car parking spaces."
      ],
      "metadata": {
        "id": "4jstXR6OYoAp"
      }
    },
    {
      "cell_type": "markdown",
      "source": [
        "##### 3. Will the gained insights help creating a positive business impact?\n",
        "Are there any insights that lead to negative growth? Justify with specific reason."
      ],
      "metadata": {
        "id": "RoGjAbkUYoAp"
      }
    },
    {
      "cell_type": "markdown",
      "source": [
        "The gained insights from this chart will help the hotel business to create a positive business impact.\n",
        "\n",
        "\n",
        "- The hotel management can consider offering discounts or special rates to customers who require car parking spaces.\n",
        "- The hotel management can also consider partnering with car rental companies to offer rental cars to customers who do not have their own cars.\n",
        "\n",
        "Therefore, the gained insights from this chart will help the hotel business to improve its customer satisfaction and convenience, which will ultimately lead to increased revenue and profitability."
      ],
      "metadata": {
        "id": "zfJ8IqMcYoAp"
      }
    },
    {
      "cell_type": "markdown",
      "source": [
        "#### Chart - 4 Most Preffered meal Type"
      ],
      "metadata": {
        "id": "4Of9eVA-YrdM"
      }
    },
    {
      "cell_type": "code",
      "source": [
        "# Chart - 4 visualization code\n",
        "# Create a bar chart\n",
        "plt.figure(figsize=(8, 6))\n",
        "ax = df.meal.value_counts().plot(kind='bar')\n",
        "\n",
        "# Add labels and title\n",
        "plt.xlabel('Meal Type')\n",
        "plt.ylabel('Number of Bookings')\n",
        "plt.title('Most Preferred Meal Type')\n",
        "\n",
        "# Add percentage values above each bar\n",
        "for p in ax.patches:\n",
        "    width, height = p.get_width(), p.get_height()\n",
        "    x, y = p.get_xy()\n",
        "    ax.text(x + width / 2, y + height / 2,\n",
        "            '{:.01f}%'.format(height / len(df) * 100),\n",
        "            horizontalalignment='center',\n",
        "            verticalalignment='center')\n",
        "\n",
        "# Show the chart\n",
        "plt.show()"
      ],
      "metadata": {
        "id": "irlUoxc8YrdO"
      },
      "execution_count": null,
      "outputs": []
    },
    {
      "cell_type": "markdown",
      "source": [
        "##### 1. Why did you pick the specific chart?"
      ],
      "metadata": {
        "id": "iky9q4vBYrdO"
      }
    },
    {
      "cell_type": "markdown",
      "source": [
        "The bar chart is an effective way to visualize the distribution of categorical data. In this case, it helps us to see which meal type is preferred more by the customers."
      ],
      "metadata": {
        "id": "aJRCwT6DYrdO"
      }
    },
    {
      "cell_type": "markdown",
      "source": [
        "##### 2. What is/are the insight(s) found from the chart?"
      ],
      "metadata": {
        "id": "F6T5p64dYrdO"
      }
    },
    {
      "cell_type": "markdown",
      "source": [
        "Using this chart see that the most preffered meal type is BB(77.8%) followed by SC(10.8%),HB(10.4),Undefined(0.6%) and FB(0.4%)."
      ],
      "metadata": {
        "id": "Xx8WAJvtYrdO"
      }
    },
    {
      "cell_type": "markdown",
      "source": [
        "##### 3. Will the gained insights help creating a positive business impact?\n",
        "Are there any insights that lead to negative growth? Justify with specific reason."
      ],
      "metadata": {
        "id": "y-Ehk30pYrdP"
      }
    },
    {
      "cell_type": "markdown",
      "source": [
        "The gained insights will help create a positive business impact.\n",
        "\n",
        "- The hotel management can focus on improving the quality and variety of the BB meal type to attract more customers.\n",
        "- The hotel management can also consider offering special discounts or promotions on the BB meal type to encourage more customers to choose it.\n",
        "- Additionally, the hotel management can consider expanding the selection of BB meal options to cater to a wider range of customer preferences.\n",
        "\n",
        "By taking these steps, the hotel business can increase customer satisfaction and revenue."
      ],
      "metadata": {
        "id": "jLNxxz7MYrdP"
      }
    },
    {
      "cell_type": "markdown",
      "source": [
        "#### Chart - 5 ADR of each Hotel type and ADR across Distribution type"
      ],
      "metadata": {
        "id": "bamQiAODYuh1"
      }
    },
    {
      "cell_type": "code",
      "source": [
        "# Chart - 5 visualization code\n",
        "group_by_hotel = df.groupby('hotel')"
      ],
      "metadata": {
        "id": "TIJwrbroYuh3"
      },
      "execution_count": null,
      "outputs": []
    },
    {
      "cell_type": "code",
      "source": [
        "# group by hotel adr\n",
        "highest_adr = group_by_hotel['adr'].mean().reset_index()\n",
        "plt.figure(figsize=(5,4))\n",
        "plt.xlabel('hotel type', fontsize=10)\n",
        "plt.ylabel('adr', fontsize=10)\n",
        "plt.title(\"ADR of each hotel type\", fontsize=10)\n",
        "sns.barplot(x=highest_adr['hotel'],y=highest_adr['adr'])"
      ],
      "metadata": {
        "id": "jPPo1x5Mlgk4"
      },
      "execution_count": null,
      "outputs": []
    },
    {
      "cell_type": "code",
      "source": [
        "# Using groupby distribution channel\n",
        "distribution_channel_df=df.groupby(['distribution_channel','hotel'])['adr'].mean().reset_index()\n",
        "# plot bar chart\n",
        "plt.figure(figsize=(12,5))\n",
        "sns.barplot(x='distribution_channel', y='adr',data=distribution_channel_df,hue='hotel')\n",
        "plt.title('ADR across Distribution channel')"
      ],
      "metadata": {
        "id": "iEy5PPfWM0oM"
      },
      "execution_count": null,
      "outputs": []
    },
    {
      "cell_type": "markdown",
      "source": [
        "##### 1. Why did you pick the specific chart?"
      ],
      "metadata": {
        "id": "QHF8YVU7Yuh3"
      }
    },
    {
      "cell_type": "markdown",
      "source": [
        "The bar chart is an effective way to visualize the distribution of categorical data. In this case, it helps us to see which hotel type has the highest ADR and how ADR varies across different distribution channels."
      ],
      "metadata": {
        "id": "dcxuIMRPYuh3"
      }
    },
    {
      "cell_type": "markdown",
      "source": [
        "##### 2. What is/are the insight(s) found from the chart?"
      ],
      "metadata": {
        "id": "GwzvFGzlYuh3"
      }
    },
    {
      "cell_type": "markdown",
      "source": [
        "- From the first chart, we can see that the City Hotel has a higher ADR than the Resort Hotel.\n",
        "\n",
        "- From the second chart, Global Distribution System(GDS) has no ADR for resort hotel.AND TA/TO and Carporate type distribution has more ADR for city hotel and direct and undefined type distribution has more ADR for resort hotel."
      ],
      "metadata": {
        "id": "uyqkiB8YYuh3"
      }
    },
    {
      "cell_type": "markdown",
      "source": [
        "##### 3. Will the gained insights help creating a positive business impact?\n",
        "Are there any insights that lead to negative growth? Justify with specific reason."
      ],
      "metadata": {
        "id": "qYpmQ266Yuh3"
      }
    },
    {
      "cell_type": "markdown",
      "source": [
        "The gained insights will help create a positive business impact.\n",
        "\n",
        "- The hotel management can focus on improving the facilities and services of the City Hotel to attract more customers and increase ADR.\n",
        "- The hotel management can also consider expanding the City Hotel or opening more City Hotels in other locations.\n",
        "- The hotel management can also consider offering special discounts or packages for the Resort Hotel to attract more customers and increase ADR.\n",
        "- The hotel management can also consider reviewing their distribution channels to understand why GDS has no ADR for resort hotel and why TA/TO and Carporate type distribution has more ADR for city hotel and direct and undefined type distribution has more ADR for resort hotel.\n",
        "\n",
        "By taking these steps, the hotel business can increase customer satisfaction, revenue, and profitability."
      ],
      "metadata": {
        "id": "_WtzZ_hCYuh4"
      }
    },
    {
      "cell_type": "markdown",
      "source": [
        "#### Chart - 6 Which agent made highest booking"
      ],
      "metadata": {
        "id": "BZR9WyysphqO"
      }
    },
    {
      "cell_type": "code",
      "source": [
        "# Chart - 6 visualization code\n",
        "# return highest bookings made by agents\n",
        "highest_bookings= df.groupby(['agent'])['agent'].agg({'count'}).reset_index().rename(columns={'count': \"Most_Bookings\" }).sort_values(by='Most_Bookings',ascending=False)\n",
        "\n",
        " # as agent 0 was NAN value and we replaced it with 0 and indicates no bookings.so droping.\n",
        "highest_bookings.drop(highest_bookings[highest_bookings['agent']==0].index,inplace=True)\n",
        "\n",
        "# taking top 10 bookings made by agent\n",
        "top_ten_highest_bookings=highest_bookings[:10]\n",
        "\n",
        "top_ten_highest_bookings"
      ],
      "metadata": {
        "id": "wPbBPjgXdgBp"
      },
      "execution_count": null,
      "outputs": []
    },
    {
      "cell_type": "code",
      "source": [
        "# Create a bar chart\n",
        "plt.figure(figsize=(12,6))\n",
        "ax = top_ten_highest_bookings.plot(kind='bar', x='agent', y='Most_Bookings')\n",
        "\n",
        "# Add labels and title\n",
        "plt.xlabel('Agent')\n",
        "plt.ylabel('Number of Bookings')\n",
        "plt.title('Top 10 Agents with Highest Bookings')\n",
        "\n",
        "# Add percentage values above each bar\n",
        "for p in ax.patches:\n",
        "    width, height = p.get_width(), p.get_height()\n",
        "    x, y = p.get_xy()\n",
        "    ax.text(x + width / 2, y + height / 2,\n",
        "            '{:.01f}%'.format(height / len(df) * 100),\n",
        "            horizontalalignment='center',\n",
        "            verticalalignment='center')\n",
        "\n",
        "# Show the chart\n",
        "plt.show()"
      ],
      "metadata": {
        "id": "E4mEbiXwh2JZ"
      },
      "execution_count": null,
      "outputs": []
    },
    {
      "cell_type": "markdown",
      "source": [
        "##### 1. Why did you pick the specific chart?"
      ],
      "metadata": {
        "id": "jj7wYXLtphqO"
      }
    },
    {
      "cell_type": "markdown",
      "source": [
        "The bar chart is an effective way to visualize the distribution of categorical data. In this case, it helps us to see which agents made the most bookings."
      ],
      "metadata": {
        "id": "Ob8u6rCTphqO"
      }
    },
    {
      "cell_type": "markdown",
      "source": [
        "##### 2. What is/are the insight(s) found from the chart?"
      ],
      "metadata": {
        "id": "eZrbJ2SmphqO"
      }
    },
    {
      "cell_type": "markdown",
      "source": [
        "- From the chart, we can see that the top 10 agents made a significant number of bookings.\n",
        "- Agent 9 made the highest number of bookings, followed by Agent 240 and Agent 14."
      ],
      "metadata": {
        "id": "mZtgC_hjphqO"
      }
    },
    {
      "cell_type": "markdown",
      "source": [
        "##### 3. Will the gained insights help creating a positive business impact?\n",
        "Are there any insights that lead to negative growth? Justify with specific reason."
      ],
      "metadata": {
        "id": "rFu4xreNphqO"
      }
    },
    {
      "cell_type": "markdown",
      "source": [
        "The gained insights from the chart will help create a positive business impact.\n",
        "\n",
        "- The hotel management can focus on providing these top 10 agents with special incentives or rewards to encourage them to continue making more bookings.\n",
        "- The hotel management can also consider working with these agents more closely to understand their needs and preferences better and to develop new strategies to attract more customers.\n",
        "- Additionally, the hotel management can consider training other agents to improve their booking performance and to increase overall bookings.\n",
        "\n",
        "By taking these steps, the hotel business can increase its revenue and profitability."
      ],
      "metadata": {
        "id": "ey_0qi68phqO"
      }
    },
    {
      "cell_type": "markdown",
      "source": [
        "#### Chart - 7 Distribution of Customer Type"
      ],
      "metadata": {
        "id": "OH-pJp9IphqM"
      }
    },
    {
      "cell_type": "code",
      "source": [
        "# Chart - 7 visualization\n",
        "df['customer_type'].value_counts().plot.pie(explode=[0.09]*4,shadow=True,autopct='%1.2f%%',figsize=(12,8),fontsize=15,labels=None)\n",
        "\n",
        "labels=df['customer_type'].value_counts().index.tolist()\n",
        "plt.title('% Distribution of Customer Type')\n",
        "plt.legend(bbox_to_anchor=(0.85, 1), loc='upper left', labels=labels)\n"
      ],
      "metadata": {
        "id": "kuRf4wtuphqN"
      },
      "execution_count": null,
      "outputs": []
    },
    {
      "cell_type": "markdown",
      "source": [
        "##### 1. Why did you pick the specific chart?"
      ],
      "metadata": {
        "id": "bbFf2-_FphqN"
      }
    },
    {
      "cell_type": "markdown",
      "source": [
        "The pie chart is an effective way to visualize the distribution of categorical data. In this case, it helps us to see the percentage of each customer type in the dataset."
      ],
      "metadata": {
        "id": "loh7H2nzphqN"
      }
    },
    {
      "cell_type": "markdown",
      "source": [
        "##### 2. What is/are the insight(s) found from the chart?"
      ],
      "metadata": {
        "id": "_ouA3fa0phqN"
      }
    },
    {
      "cell_type": "markdown",
      "source": [
        "From the chart,we can see that majority of the customer are transient type (82.38%) followed by transient-party(13.4%),contract(3.59%) and group(0.62%).\n",
        "\n",
        "\n"
      ],
      "metadata": {
        "id": "VECbqPI7phqN"
      }
    },
    {
      "cell_type": "markdown",
      "source": [
        "##### 3. Will the gained insights help creating a positive business impact?\n",
        "Are there any insights that lead to negative growth? Justify with specific reason."
      ],
      "metadata": {
        "id": "Seke61FWphqN"
      }
    },
    {
      "cell_type": "markdown",
      "source": [
        "The gained insights from the above plot will help create a positive business impact.\n",
        "\n",
        "- The hotel management can focus on attracting more transient and transient-party customers, as these two customer types make up the majority of the hotel's bookings.\n",
        "- The hotel management can also consider offering special discounts or promotions to these two customer types to encourage them to book more often.\n",
        "- Additionally, the hotel management can consider developing new marketing campaigns that target these two customer types.\n",
        "\n",
        "By taking these steps, the hotel business can increase its revenue and profitability.\n",
        "\n",
        "There are no insights from the above plot that would lead to negative growth."
      ],
      "metadata": {
        "id": "DW4_bGpfphqN"
      }
    },
    {
      "cell_type": "markdown",
      "source": [
        "#### Chart - 8 Booking by month and Optimal Stay length in hotels"
      ],
      "metadata": {
        "id": "PIIx-8_IphqN"
      }
    },
    {
      "cell_type": "code",
      "source": [
        "# Chart - 8 visualization code\n",
        "# groupby arrival_date_month and taking the hotel count\n",
        "bookings_by_months_df=df.groupby(['arrival_date_month'])['hotel'].count().reset_index().rename(columns={'hotel':\"Counts\"})\n",
        "# Create list of months in order\n",
        "months = ['January', 'February', 'March', 'April', 'May', 'June', 'July', 'August', 'September', 'October', 'November', 'December']\n",
        "# creating df which will map the order of above months list without changing its values.\n",
        "bookings_by_months_df['arrival_date_month']=pd.Categorical(bookings_by_months_df['arrival_date_month'],categories=months,ordered=True)\n",
        "# sorting by arrival_date_month\n",
        "bookings_by_months_df=bookings_by_months_df.sort_values('arrival_date_month')\n",
        "\n",
        "bookings_by_months_df"
      ],
      "metadata": {
        "id": "lqAIGUfyphqO"
      },
      "execution_count": null,
      "outputs": []
    },
    {
      "cell_type": "code",
      "source": [
        "\n",
        "# set plot size\n",
        "plt.figure(figsize=(15,6))\n",
        "\n",
        "#pltting lineplot on x- months & y- booking counts\n",
        "sns.lineplot(x=bookings_by_months_df['arrival_date_month'],y=bookings_by_months_df['Counts'])\n",
        "\n",
        "# set title for the plot\n",
        "plt.title('Number of bookings across each month')\n",
        "#set x label\n",
        "plt.xlabel('Month')\n",
        "#set y label\n",
        "plt.ylabel('Number of bookings')"
      ],
      "metadata": {
        "id": "PG4KE3PR6aSr"
      },
      "execution_count": null,
      "outputs": []
    },
    {
      "cell_type": "code",
      "source": [
        "# Using group by function on total_stay and hotel\n",
        "stay = df.groupby(['total_stay', 'hotel']).agg('count').reset_index()\n",
        "# Taking only first three columns\n",
        "stay = stay.iloc[:,:3]\n",
        "# Remaining the columns\n",
        "stay = stay.rename(columns={'is_canceled':'Number of stays'})"
      ],
      "metadata": {
        "id": "NsCBUMgKSS9B"
      },
      "execution_count": null,
      "outputs": []
    },
    {
      "cell_type": "code",
      "source": [
        "# Setting plot size for bar chart\n",
        "plt.figure(figsize=(20,10))\n",
        "sns.barplot(x='total_stay', y='Number of stays', hue='hotel',data=stay)\n",
        "# Set labels\n",
        "plt.title('Optimal Stay Length in Both Hotel types', fontsize=15)\n",
        "plt.ylabel('Count of Stay',fontsize=15)\n",
        "plt.xlabel('Total stay(days)',fontsize=15)\n"
      ],
      "metadata": {
        "id": "UU11iy5nUf7o"
      },
      "execution_count": null,
      "outputs": []
    },
    {
      "cell_type": "markdown",
      "source": [
        "##### 1. Why did you pick the specific chart?"
      ],
      "metadata": {
        "id": "t27r6nlMphqO"
      }
    },
    {
      "cell_type": "markdown",
      "source": [
        "- **Number of bookings across each month**: This plot shows the number of bookings for each month. This information can be used to identify the peak and off-peak seasons for the hotel, which can be used to develop pricing and marketing strategies.\n",
        "- **Optimal stay length in both type of hotel**: This plot shows the average length of stay for guests in each hotel type. This information can be used to determine the optimal length of stay for different types of guests, which can be used to develop targeted marketing campaigns."
      ],
      "metadata": {
        "id": "iv6ro40sphqO"
      }
    },
    {
      "cell_type": "markdown",
      "source": [
        "##### 2. What is/are the insight(s) found from the chart?"
      ],
      "metadata": {
        "id": "r2jJGEOYphqO"
      }
    },
    {
      "cell_type": "markdown",
      "source": [
        "In the first chart we have found that July and August had the most booking.\n",
        "\n",
        "In the second chart we found optimal stay in both type hotel is less than 7 days. And after that staying number is declined."
      ],
      "metadata": {
        "id": "Po6ZPi4hphqO"
      }
    },
    {
      "cell_type": "markdown",
      "source": [
        "##### 3. Will the gained insights help creating a positive business impact?\n",
        "Are there any insights that lead to negative growth? Justify with specific reason."
      ],
      "metadata": {
        "id": "KBTFXqYoaFKh"
      }
    },
    {
      "cell_type": "markdown",
      "source": [
        "The gained insights will help create a positive business impact.\n",
        "\n",
        "- The hotel management can focus on attracting more customers during the peak season (July and August) by offering special discounts or promotions.\n",
        "- The hotel management can also consider developing new marketing campaigns that target customers who are looking for short stays (less than 7 days).\n",
        "- Additionally, the hotel management can consider offering special amenities or services to guests who are staying for longer periods of time.\n",
        "\n",
        "By taking these steps, the hotel business can increase its revenue and profitability.\n",
        "\n",
        "There are no insights from the above plot that would lead to negative growth."
      ],
      "metadata": {
        "id": "toijNhDyanR7"
      }
    },
    {
      "cell_type": "markdown",
      "source": [
        "#### Chart - 9 Which year had the highest booking"
      ],
      "metadata": {
        "id": "YJ55k-q6phqO"
      }
    },
    {
      "cell_type": "code",
      "source": [
        "# Chart - 9 visualization code\n",
        "# set plot size\n",
        "plt.figure(figsize=(12,5))\n",
        "\n",
        "#  plot with countplot\n",
        "sns.countplot(x= df['arrival_date_year'],hue=df['hotel'])\n",
        "plt.title(\"Year Wise bookings\")\n"
      ],
      "metadata": {
        "id": "B2aS4O1ophqO"
      },
      "execution_count": null,
      "outputs": []
    },
    {
      "cell_type": "markdown",
      "source": [
        "##### 1. Why did you pick the specific chart?"
      ],
      "metadata": {
        "id": "gCFgpxoyphqP"
      }
    },
    {
      "cell_type": "markdown",
      "source": [
        "The specific graph, a countplot with hue, was chosen to visualize the number of bookings for each year, while also differentiating between the two hotel types. This allows for a clear comparison of the booking trends for each hotel across different years."
      ],
      "metadata": {
        "id": "TVxDimi2phqP"
      }
    },
    {
      "cell_type": "markdown",
      "source": [
        "##### 2. What is/are the insight(s) found from the chart?"
      ],
      "metadata": {
        "id": "OVtJsKN_phqQ"
      }
    },
    {
      "cell_type": "markdown",
      "source": [
        "- The year 2016 had the highest number of bookings for both hotels combined.\n",
        "- The City Hotel had a higher number of bookings than the Resort Hotel in all years except for 2015.\n",
        "- The Resort Hotel had a significant increase in bookings from 2015 to 2016, but this increase was not sustained in subsequent years."
      ],
      "metadata": {
        "id": "ngGi97qjphqQ"
      }
    },
    {
      "cell_type": "markdown",
      "source": [
        "##### 3. Will the gained insights help creating a positive business impact?\n",
        "Are there any insights that lead to negative growth? Justify with specific reason."
      ],
      "metadata": {
        "id": "lssrdh5qphqQ"
      }
    },
    {
      "cell_type": "markdown",
      "source": [
        "The gained insights from this chart can help create a positive business impact.\n",
        "\n",
        "- The hotel management can focus on understanding the factors that contributed to the high number of bookings in 2016 and replicate those factors in future years.\n",
        "- The hotel management can also consider developing marketing campaigns that target potential guests who are more likely to book during the peak season (2016).\n",
        "- Additionally, the hotel management can consider investing in renovations or upgrades to the Resort Hotel to attract more guests and increase its occupancy rate.\n",
        "\n",
        "By taking these steps, the hotel business can increase its revenue and profitability.\n",
        "\n",
        "There are no insights from the above plot that would lead to negative growth."
      ],
      "metadata": {
        "id": "tBpY5ekJphqQ"
      }
    },
    {
      "cell_type": "markdown",
      "source": [
        "#### Chart - 10 From which country most guest are coming?"
      ],
      "metadata": {
        "id": "U2RJ9gkRphqQ"
      }
    },
    {
      "cell_type": "code",
      "source": [
        "# Chart - 10 visualization code\n",
        "guest_country = df[df['is_canceled'] == 0]['country'].value_counts().reset_index()\n",
        "guest_country.columns = ['Country', 'No of guests']\n",
        "guest_country"
      ],
      "metadata": {
        "id": "GM7a4YP4phqQ"
      },
      "execution_count": null,
      "outputs": []
    },
    {
      "cell_type": "code",
      "source": [
        "basemap = folium.Map()\n",
        "ax = px.choropleth(guest_country, locations = guest_country['Country'],\n",
        "                           color = guest_country['No of guests'], hover_name = guest_country['Country'])\n",
        "ax.show()"
      ],
      "metadata": {
        "id": "JDaVS79PPt-b"
      },
      "execution_count": null,
      "outputs": []
    },
    {
      "cell_type": "code",
      "source": [
        "# Counting the guests from various countries.\n",
        "country_df=df['country'].value_counts().reset_index().rename(columns={'index': 'country','country': 'count of guests'})[:10]\n",
        "\n",
        "# Create a bar chart\n",
        "plt.figure(figsize=(12,6))\n",
        "ax = country_df.plot(kind='bar', x='country', y='count of guests')\n",
        "\n",
        "# Add labels and title\n",
        "plt.xlabel('Country')\n",
        "plt.ylabel('Number of guest',fontsize = 12)\n",
        "plt.title(\"Top 10 Number of guests from diffrent Countries\")\n",
        "print(\"\\n\\nPRT = Portugal\\nGBR = Great Britain & Northern Ireland\\nFRA = France\\nESP = Spain\\nDEU = Germany\\nITA = Italy\\nIRL = Ireland\\nBRA = Brazil\\nBEL = Belgium\\nNLD = Netherland\")\n",
        "\n",
        "# Add percentage values above each bar\n",
        "for p in ax.patches:\n",
        "    width, height = p.get_width(), p.get_height()\n",
        "    x, y = p.get_xy()\n",
        "    ax.text(x + width / 2, y + height / 2,\n",
        "            '{:.01f}%'.format(height / len(df) * 100),\n",
        "            horizontalalignment='center',\n",
        "            verticalalignment='center')\n",
        "\n",
        "# Show the chart\n",
        "plt.show()"
      ],
      "metadata": {
        "id": "PZZ6IB1pQEM6"
      },
      "execution_count": null,
      "outputs": []
    },
    {
      "cell_type": "markdown",
      "source": [
        "##### 1. Why did you pick the specific chart?"
      ],
      "metadata": {
        "id": "1M8mcRywphqQ"
      }
    },
    {
      "cell_type": "markdown",
      "source": [
        "The specific graph, a Choropleth map, was chosen to visualize the number of guests from different countries on a world map. This allows for a clear understanding of the geographical distribution of guests and to identify the countries that are sending the most guests to the hotel.\n",
        "\n",
        "The bar plot was chosen to visualize the top 10 countries with the most guests. This allows for a more detailed comparison of the number of guests from each country and to identify any trends or patterns."
      ],
      "metadata": {
        "id": "8agQvks0phqQ"
      }
    },
    {
      "cell_type": "markdown",
      "source": [
        "##### 2. What is/are the insight(s) found from the chart?"
      ],
      "metadata": {
        "id": "tgIPom80phqQ"
      }
    },
    {
      "cell_type": "markdown",
      "source": [
        "- The majority of guests come from Portugal, followed by Great Britain & Northern Ireland, France, Spain, Germany, Italy, Ireland, Brazil, Belgium, and the Netherlands.\n",
        "- These top 10 countries account for over 80% of all guests.\n",
        "- The Choropleth map shows that guests are coming from all over the world, with a concentration in Europe and South America."
      ],
      "metadata": {
        "id": "Qp13pnNzphqQ"
      }
    },
    {
      "cell_type": "markdown",
      "source": [
        "##### 3. Will the gained insights help creating a positive business impact?\n",
        "Are there any insights that lead to negative growth? Justify with specific reason."
      ],
      "metadata": {
        "id": "JMzcOPDDphqR"
      }
    },
    {
      "cell_type": "markdown",
      "source": [
        "The gained insights will help create a positive business impact.\n",
        "\n",
        "- The hotel management can focus on marketing and advertising efforts in the top 10 countries that are sending the most guests.\n",
        "- The hotel management can also consider developing targeted marketing campaigns for each of these countries, taking into account the specific needs and preferences of guests from that country.\n",
        "- Additionally, the hotel management can consider offering special discounts or promotions to guests from these countries to encourage them to book more often.\n",
        "\n",
        "By taking these steps, the hotel business can increase its revenue and profitability.\n",
        "\n",
        "There are no insights from the above plot that would lead to negative growth."
      ],
      "metadata": {
        "id": "R4Ka1PC2phqR"
      }
    },
    {
      "cell_type": "markdown",
      "source": [
        "#### Chart - 11 Which distribution channel had highest booking and cancellation"
      ],
      "metadata": {
        "id": "x-EpHcCOp1ci"
      }
    },
    {
      "cell_type": "code",
      "source": [
        "# Chart - 11 visualization code\n",
        "#Creating labels\n",
        "labels= df['distribution_channel'].value_counts().index.tolist()\n",
        "\n",
        "# creating new df of distribution channel\n",
        "distribution_channel_df=df['distribution_channel'].value_counts().reset_index().rename(columns={'index':\"distribution_channel\",'distribution_channel':'count'})\n",
        "\n",
        "#adding percentage columns to the distribution_channel_df\n",
        "distribution_channel_df['percentage']=round(distribution_channel_df['count']*100/df.shape[0],1)\n",
        "\n",
        "#Creating list of percentage\n",
        "sizes=distribution_channel_df['percentage'].values.tolist()\n",
        "\n",
        "#plotting the piw chart\n",
        "hotel_booking_df['distribution_channel'].value_counts().plot.pie(explode=[0.05]*5, shadow=False, figsize=(15,8),fontsize=10,labels=None)\n",
        "\n",
        "# setting legends with the percentage values\n",
        "labels = [f'{l}, {s}%' for l, s in zip(labels, sizes)]\n",
        "plt.legend(bbox_to_anchor=(0.85, 1), loc='upper left', labels=labels)\n",
        "plt.title(' Mostly Used Distribution Channel for Hotel Bookings ')"
      ],
      "metadata": {
        "id": "mAQTIvtqp1cj"
      },
      "execution_count": null,
      "outputs": []
    },
    {
      "cell_type": "code",
      "source": [
        "canceled_df=df[df['is_canceled']==1] # 1= canceled\n",
        "\n",
        "#group by distribution channel\n",
        "canceled_df=canceled_df.groupby(['distribution_channel','hotel']).size().reset_index().rename(columns={0:'Counts'})\n",
        "canceled_df\n",
        "\n",
        "#set plot size and plot barchart\n",
        "plt.figure(figsize=(8,5))\n",
        "sns.barplot(x='distribution_channel',y='Counts',hue=\"hotel\",data=canceled_df)\n",
        "\n",
        "# set labels\n",
        "plt.xlabel('Distribution channel')\n",
        "plt.ylabel('counts')\n",
        "plt.title('Cancellation Rate Vs Distribution channel')"
      ],
      "metadata": {
        "id": "ou50q0QWCyHZ"
      },
      "execution_count": null,
      "outputs": []
    },
    {
      "cell_type": "markdown",
      "source": [
        "##### 1. Why did you pick the specific chart?"
      ],
      "metadata": {
        "id": "X_VqEhTip1ck"
      }
    },
    {
      "cell_type": "markdown",
      "source": [
        "The pie chart is an effective way to visualize the distribution of categorical data. In this case, it helps us to see which distribution channel had the highest percentage of bookings.\n",
        "\n",
        "The bar chart is an effective way to visualize the relationship between two categorical variables. In this case, it helps us to see which distribution channels had the highest cancellation rates for each hotel type."
      ],
      "metadata": {
        "id": "-vsMzt_np1ck"
      }
    },
    {
      "cell_type": "markdown",
      "source": [
        "##### 2. What is/are the insight(s) found from the chart?"
      ],
      "metadata": {
        "id": "8zGJKyg5p1ck"
      }
    },
    {
      "cell_type": "markdown",
      "source": [
        "- The majority of bookings come through TA/TO (Tour Agent/Tour Operator), followed by Direct and Corporate.\n",
        "- TA/TO also has the highest cancellation rate for both hotels.\n",
        "- This suggests that TA/TO may be a less reliable source of bookings, as guests who book through TA/TO are more likely to cancel their reservations.\n",
        "- The hotel management may want to consider working with TA/TO to improve the quality of their bookings and to reduce the cancellation rate."
      ],
      "metadata": {
        "id": "ZYdMsrqVp1ck"
      }
    },
    {
      "cell_type": "markdown",
      "source": [
        "##### 3. Will the gained insights help creating a positive business impact?\n",
        "Are there any insights that lead to negative growth? Justify with specific reason."
      ],
      "metadata": {
        "id": "PVzmfK_Ep1ck"
      }
    },
    {
      "cell_type": "markdown",
      "source": [
        "The gained insights will help create a positive business impact.\n",
        "\n",
        "- The hotel management can focus on attracting more bookings through the Direct and Corporate distribution channels, as these channels have a lower cancellation rate.\n",
        "- The hotel management can also consider offering special discounts or promotions to guests who book through these channels to encourage them to book more often.\n",
        "- Additionally, the hotel management can consider working with TA/TO to improve the quality of their bookings and to reduce the cancellation rate.\n",
        "\n",
        "By taking these steps, the hotel business can increase its revenue and profitability.\n",
        "\n",
        "There are no insights from the above plot that would lead to negative growth."
      ],
      "metadata": {
        "id": "druuKYZpp1ck"
      }
    },
    {
      "cell_type": "markdown",
      "source": [
        "#### Chart - 12 Relationship between repeated guests and previous booking not cancelled"
      ],
      "metadata": {
        "id": "n3dbpmDWp1ck"
      }
    },
    {
      "cell_type": "code",
      "source": [
        "# Chart - 12 visualization code\n",
        "repeated_guests_df=df[df['is_repeated_guest']==1]\n",
        "repeated_guests_df_1=df[df['is_repeated_guest']==0]\n",
        "plt.figure(figsize=(8,5))\n",
        "sns.barplot(x=df['is_repeated_guest'],y= df['previous_bookings_not_canceled'])\n",
        "plt.xticks([0,1],['Not_repeated_guests','repeated_guests'],fontsize=15)\n",
        "plt.title('Relationship Between repeated guests and previous bookings not cancelled.')\n",
        "plt.show()"
      ],
      "metadata": {
        "id": "bwevp1tKp1ck"
      },
      "execution_count": null,
      "outputs": []
    },
    {
      "cell_type": "markdown",
      "source": [
        "**Percentage of booking cancellation**"
      ],
      "metadata": {
        "id": "GZoEDYyrBLhO"
      }
    },
    {
      "cell_type": "code",
      "source": [
        "# booking canceled=1\n",
        "# booking not canceled= 0\n",
        "\n",
        "# creating new DataFrame where bookings are cancelled.\n",
        "canceled_df=df[df['is_canceled']==1]\n",
        "\n",
        "# Grouping by hotel\n",
        "canceled_df=canceled_df.groupby('hotel').size().reset_index().rename(columns={0: \"no_of_cancelled_bookings\"})\n",
        "\n",
        "# adding 'total booking column for calculating the percentage.\n",
        "canceled_df['total_booikngs']=df.groupby('hotel').size().reset_index().rename(columns={0:\"total_bookings\"}).drop('hotel',axis=1)\n",
        "canceled_df\n",
        "\n",
        "#plotting the barchat\n",
        "plt.figure(figsize=(8,5))\n",
        "sns.barplot(x=canceled_df['hotel'],y=canceled_df['no_of_cancelled_bookings']*100/canceled_df['total_booikngs'])\n",
        "\n",
        "#set labels\n",
        "plt.xlabel('Hotel type')\n",
        "plt.ylabel('Percentage(%)')\n",
        "plt.title(\"Percentage of booking cancellation\")"
      ],
      "metadata": {
        "id": "aVWjsFkTA18X"
      },
      "execution_count": null,
      "outputs": []
    },
    {
      "cell_type": "markdown",
      "source": [
        "##### 1. Why did you pick the specific chart?"
      ],
      "metadata": {
        "id": "ylSl6qgtp1ck"
      }
    },
    {
      "cell_type": "markdown",
      "source": [
        "The bar chart is an effective way to visualize the relationship between two categorical variables. In this case, it helps us to see the relationship between repeated guests and previous bookings not cancelled."
      ],
      "metadata": {
        "id": "m2xqNkiQp1ck"
      }
    },
    {
      "cell_type": "markdown",
      "source": [
        "##### 2. What is/are the insight(s) found from the chart?"
      ],
      "metadata": {
        "id": "ZWILFDl5p1ck"
      }
    },
    {
      "cell_type": "markdown",
      "source": [
        "- The first chart shows that repeated guests are more likely to have previous bookings that were not cancelled.\n",
        "- This suggests that repeated guests are more likely to be satisfied with their stay at the hotel and are more likely to return in the future.\n",
        "- The second chart shows that the City Hotel has a higher percentage of booking cancellations than the Resort Hotel.\n",
        "- This suggests that guests who stay at the City Hotel may be more likely to cancel their reservations than guests who stay at the Resort Hotel."
      ],
      "metadata": {
        "id": "x-lUsV2mp1ck"
      }
    },
    {
      "cell_type": "markdown",
      "source": [
        "##### 3. Will the gained insights help creating a positive business impact?\n",
        "Are there any insights that lead to negative growth? Justify with specific reason."
      ],
      "metadata": {
        "id": "M7G43BXep1ck"
      }
    },
    {
      "cell_type": "markdown",
      "source": [
        "The gained insights will help create a positive business impact.\n",
        "\n",
        "- The hotel management can focus on attracting more repeated guests, as these guests are more likely to be satisfied with their stay and to return in the future.\n",
        "- The hotel management can also consider offering special discounts or promotions to repeated guests to encourage them to book more often.\n",
        "- The hotel management can consider making changes to the City Hotel to make it more appealing to guests and to reduce the cancellation rate.\n",
        "\n",
        "By taking these steps, the hotel business can increase its revenue and profitability.\n",
        "\n",
        "There are no insights from the above plot that would lead to negative growth."
      ],
      "metadata": {
        "id": "5wwDJXsLp1cl"
      }
    },
    {
      "cell_type": "markdown",
      "source": [
        "#### Chart - 13  Plotting Histogram"
      ],
      "metadata": {
        "id": "Ag9LCva-p1cl"
      }
    },
    {
      "cell_type": "code",
      "source": [
        "# Chart - 13 visualization code\n",
        "df.hist(figsize=(24,18))\n",
        "plt.show()"
      ],
      "metadata": {
        "id": "EUfxeq9-p1cl"
      },
      "execution_count": null,
      "outputs": []
    },
    {
      "cell_type": "markdown",
      "source": [
        "##### 1. Why did you pick the specific chart?"
      ],
      "metadata": {
        "id": "E6MkPsBcp1cl"
      }
    },
    {
      "cell_type": "markdown",
      "source": [
        "To understanding the data in clear way with proper insights,I have used the histogram here.It is used to summarize discrete or continuous data that are measured on an interval scale.It is often used to illustrate the major features of the distribution of the data in convenient form.It is also useful when dealing with large data sets.It can help detect any unusual observation (outlier) or any gaps in the data.Thus we have used the histogram plot to analysis the variable distribution over the whole dataset whether it's symmetric or not."
      ],
      "metadata": {
        "id": "V22bRsFWp1cl"
      }
    },
    {
      "cell_type": "markdown",
      "source": [
        "##### 2. What is/are the insight(s) found from the chart?"
      ],
      "metadata": {
        "id": "2cELzS2fp1cl"
      }
    },
    {
      "cell_type": "markdown",
      "source": [
        "Some insights found the chart as follows:\n",
        "\n",
        "-  We can see that the maximum guest came in the year 2016.\n",
        "\n",
        "-  Maximum arrival week number is 30.\n",
        "\n",
        "-  Maximum arrival happens in the last of the month.\n",
        "\n",
        "-  Maximum guests comes with no children.\n",
        "\n",
        "-  There is very less requirement of car parking space."
      ],
      "metadata": {
        "id": "ozQPc2_Ip1cl"
      }
    },
    {
      "cell_type": "markdown",
      "source": [
        "##### 3. Will the gained insights help creating a positive business impact?\n",
        "Are there any insights that lead to negative growth? Justify with specific reason."
      ],
      "metadata": {
        "id": "3MPXvC8up1cl"
      }
    },
    {
      "cell_type": "markdown",
      "source": [
        "Histogram can not define business impact. it's just to see the distribution of the column data over the dataset"
      ],
      "metadata": {
        "id": "GL8l1tdLp1cl"
      }
    },
    {
      "cell_type": "markdown",
      "source": [
        "#### Chart - 14 - Correlation Heatmap"
      ],
      "metadata": {
        "id": "NC_X3p0fY2L0"
      }
    },
    {
      "cell_type": "code",
      "source": [
        "# Correlation Heatmap visualization code\n",
        "plt.figure(figsize=(18,10))\n",
        "sns.heatmap(df.corr(),annot=True)\n",
        "plt.title('Co-relation of the columns')"
      ],
      "metadata": {
        "id": "xyC9zolEZNRQ"
      },
      "execution_count": null,
      "outputs": []
    },
    {
      "cell_type": "markdown",
      "source": [
        "##### 1. Why did you pick the specific chart?"
      ],
      "metadata": {
        "id": "UV0SzAkaZNRQ"
      }
    },
    {
      "cell_type": "markdown",
      "source": [
        "The correlation heatmap is a visual representation of the correlation coefficients between all pairs of columns in a data set. It is used to identify variables that are positively or negatively correlated, as well as the strength of those correlations."
      ],
      "metadata": {
        "id": "DVPuT8LYZNRQ"
      }
    },
    {
      "cell_type": "markdown",
      "source": [
        "##### 2. What is/are the insight(s) found from the chart?"
      ],
      "metadata": {
        "id": "YPEH6qLeZNRQ"
      }
    },
    {
      "cell_type": "markdown",
      "source": [
        "Using this heatmap we can clearly see that the highest correlation value is 0.95 and lowest correlation value is -0.51."
      ],
      "metadata": {
        "id": "bfSqtnDqZNRR"
      }
    },
    {
      "cell_type": "markdown",
      "source": [
        "#### Chart - 15 - Pair Plot"
      ],
      "metadata": {
        "id": "q29F0dvdveiT"
      }
    },
    {
      "cell_type": "code",
      "source": [
        "# Pair Plot visualization code\n",
        "\n",
        "# Select the columns for the pair plot\n",
        "columns_for_pairplot = ['lead_time', 'adr', 'total_stay', 'is_repeated_guest', 'previous_cancellations', 'booking_changes', 'total_of_special_requests','is_canceled']\n",
        "\n",
        "# Create a new DataFrame with only the selected columns\n",
        "df_selected = df[columns_for_pairplot]\n",
        "\n",
        "# Create the pair plot\n",
        "sns.pairplot(df_selected)\n",
        "\n",
        "# Display the plot\n",
        "plt.show()\n",
        "\n"
      ],
      "metadata": {
        "id": "o58-TEIhveiU"
      },
      "execution_count": null,
      "outputs": []
    },
    {
      "cell_type": "markdown",
      "source": [
        "##### 1. Why did you pick the specific chart?"
      ],
      "metadata": {
        "id": "EXh0U9oCveiU"
      }
    },
    {
      "cell_type": "markdown",
      "source": [
        "The pair plot is a useful tool for visualizing the relationships between multiple variables in a data set. It can help to identify patterns and trends in the data, as well as to identify any outliers."
      ],
      "metadata": {
        "id": "eMmPjTByveiU"
      }
    },
    {
      "cell_type": "markdown",
      "source": [
        "##### 2. What is/are the insight(s) found from the chart?"
      ],
      "metadata": {
        "id": "22aHeOlLveiV"
      }
    },
    {
      "cell_type": "markdown",
      "source": [
        "This graph show relationship between lead_time, adr, total_stay, is_repeated_guest, previous_cancellations, booking_changes and total_of_special_requests."
      ],
      "metadata": {
        "id": "uPQ8RGwHveiV"
      }
    },
    {
      "cell_type": "markdown",
      "source": [
        "## **5. Solution to Business Objective**"
      ],
      "metadata": {
        "id": "JcMwzZxoAimU"
      }
    },
    {
      "cell_type": "markdown",
      "source": [
        "#### What do you suggest the client to achieve Business Objective ?\n",
        "Explain Briefly."
      ],
      "metadata": {
        "id": "8G2x9gOozGDZ"
      }
    },
    {
      "cell_type": "markdown",
      "source": [
        "-->  Based on the insights gained from the data analysis, the following suggestions are made to the client to achieve their business objective:\n",
        "\n",
        "1. Increase bookings:\n",
        "    - Target marketing campaigns to countries with the highest number of guests.\n",
        "    - Offer discounts and promotions to attract new guests.\n",
        "    - Work with travel agents and online booking platforms to increase visibility.\n",
        "\n",
        "2. Decrease cancellations:\n",
        "    - Improve communication with guests to ensure they have all the information they need before booking.\n",
        "    - Offer flexible cancellation policies.\n",
        "    - Work with travel agents and online booking platforms to improve the booking process.\n",
        "\n",
        "3. Increase customer retention:\n",
        "    - Implement a loyalty program to reward repeat guests.\n",
        "    - Offer special discounts and promotions to repeat guests.\n",
        "    - Provide excellent customer service to ensure guests have a positive experience.\n",
        "\n",
        "4. Extend stays:\n",
        "    - Offer discounts for longer stays.\n",
        "    - Create packages that include activities and attractions in the local area.\n",
        "    - Provide amenities and services that encourage guests to stay longer.\n",
        "\n"
      ],
      "metadata": {
        "id": "pASKb0qOza21"
      }
    },
    {
      "cell_type": "markdown",
      "source": [
        "# **Conclusion**"
      ],
      "metadata": {
        "id": "gCX9965dhzqZ"
      }
    },
    {
      "cell_type": "markdown",
      "source": [
        "This project analyzed hotel booking data to gain insights and make recommendations to improve business performance. The analysis revealed several key findings:\n",
        "\n",
        "1. City hotels are more popular than resort hotels, but have a higher cancellation rate.\n",
        "2. Repeat guests are more likely to have previous bookings that were not canceled.\n",
        "3. The majority of bookings come through TA/TO (Tour Agent/Tour Operator), followed by Direct and Corporate.\n",
        "4. The percentage of booking cancellation is higher for TA/TO than for Direct and Corporate bookings.\n",
        "5. The average lead time for resort hotels is higher than for city hotels.\n",
        "6. The average ADR (Average Daily Rate) for city hotels is higher than for resort hotels.\n",
        "7. The majority of guests are transient (82.4%).\n",
        "8. The optimal stay in both types of hotels is less than 7 days.\n",
        "\n",
        "Based on these findings, several recommendations were made to the client to achieve their business objectives:\n",
        "\n",
        "1. Increase bookings by targeting marketing campaigns to countries with the highest number of guests and offering discounts and promotions.\n",
        "2. Decrease cancellations by improving communication with guests and offering flexible cancellation policies.\n",
        "3. Increase customer retention by implementing a loyalty program and providing excellent customer service.\n",
        "4. Extend stays by offering discounts for longer stays and creating packages that include activities and attractions in the local area.\n",
        "\n",
        "By implementing these recommendations, the hotel can improve its business performance and achieve its objectives.\n"
      ],
      "metadata": {
        "id": "Fjb1IsQkh3yE"
      }
    },
    {
      "cell_type": "markdown",
      "source": [
        "### ***Hurrah! You have successfully completed your EDA Capstone Project !!!***"
      ],
      "metadata": {
        "id": "gIfDvo9L0UH2"
      }
    }
  ]
}