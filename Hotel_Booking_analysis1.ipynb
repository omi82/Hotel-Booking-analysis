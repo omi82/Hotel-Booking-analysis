{
  "nbformat": 4,
  "nbformat_minor": 0,
  "metadata": {
    "colab": {
      "private_outputs": true,
      "provenance": [],
      "collapsed_sections": [
        "vncDsAP0Gaoa",
        "FJNUwmbgGyua",
        "w6K7xa23Elo4",
        "yQaldy8SH6Dl",
        "PH-0ReGfmX4f",
        "mDgbUHAGgjLW",
        "O_i_v8NEhb9l",
        "HhfV-JJviCcP",
        "Y3lxredqlCYt",
        "3RnN4peoiCZX",
        "x71ZqKXriCWQ",
        "7hBIi_osiCS2",
        "JlHwYmJAmNHm",
        "35m5QtbWiB9F",
        "PoPl-ycgm1ru",
        "H0kj-8xxnORC",
        "nA9Y7ga8ng1Z",
        "PBTbrJXOngz2",
        "u3PMJOP6ngxN",
        "dauF4eBmngu3",
        "bKJF3rekwFvQ",
        "MSa1f5Uengrz",
        "GF8Ens_Soomf",
        "0wOQAZs5pc--",
        "K5QZ13OEpz2H",
        "lQ7QKXXCp7Bj",
        "448CDAPjqfQr",
        "KSlN3yHqYklG",
        "t6dVpIINYklI",
        "ijmpgYnKYklI",
        "-JiQyfWJYklI",
        "EM7whBJCYoAo",
        "fge-S5ZAYoAp",
        "85gYPyotYoAp",
        "RoGjAbkUYoAp",
        "4Of9eVA-YrdM",
        "iky9q4vBYrdO",
        "F6T5p64dYrdO",
        "y-Ehk30pYrdP",
        "bamQiAODYuh1",
        "QHF8YVU7Yuh3",
        "GwzvFGzlYuh3",
        "qYpmQ266Yuh3",
        "OH-pJp9IphqM",
        "bbFf2-_FphqN",
        "_ouA3fa0phqN",
        "Seke61FWphqN",
        "PIIx-8_IphqN",
        "t27r6nlMphqO",
        "r2jJGEOYphqO",
        "b0JNsNcRphqO",
        "BZR9WyysphqO",
        "jj7wYXLtphqO",
        "eZrbJ2SmphqO",
        "rFu4xreNphqO",
        "YJ55k-q6phqO",
        "gCFgpxoyphqP",
        "OVtJsKN_phqQ",
        "lssrdh5qphqQ",
        "U2RJ9gkRphqQ",
        "1M8mcRywphqQ",
        "tgIPom80phqQ",
        "JMzcOPDDphqR",
        "x-EpHcCOp1ci",
        "X_VqEhTip1ck",
        "8zGJKyg5p1ck",
        "PVzmfK_Ep1ck",
        "n3dbpmDWp1ck",
        "ylSl6qgtp1ck",
        "ZWILFDl5p1ck",
        "M7G43BXep1ck",
        "Ag9LCva-p1cl",
        "E6MkPsBcp1cl",
        "2cELzS2fp1cl",
        "3MPXvC8up1cl",
        "NC_X3p0fY2L0",
        "UV0SzAkaZNRQ",
        "YPEH6qLeZNRQ",
        "q29F0dvdveiT",
        "EXh0U9oCveiU",
        "22aHeOlLveiV",
        "JcMwzZxoAimU",
        "8G2x9gOozGDZ",
        "gCX9965dhzqZ",
        "gIfDvo9L0UH2"
      ],
      "include_colab_link": true
    },
    "kernelspec": {
      "name": "python3",
      "display_name": "Python 3"
    },
    "language_info": {
      "name": "python"
    }
  },
  "cells": [
    {
      "cell_type": "markdown",
      "metadata": {
        "id": "view-in-github",
        "colab_type": "text"
      },
      "source": [
        "<a href=\"https://colab.research.google.com/github/omi82/Hotel-Booking-analysis/blob/main/Hotel_Booking_analysis1.ipynb\" target=\"_parent\"><img src=\"https://colab.research.google.com/assets/colab-badge.svg\" alt=\"Open In Colab\"/></a>"
      ]
    },
    {
      "cell_type": "markdown",
      "source": [
        "\n",
        "# **Project Name**    - Hotel Booking Analysis\n",
        "\n"
      ],
      "metadata": {
        "id": "vncDsAP0Gaoa"
      }
    },
    {
      "cell_type": "markdown",
      "source": [
        "##### **Project Type**    - EDA\n",
        "##### **Contribution**    - Team\n",
        "##### **Team Member 1 -** Omendra Puri\n",
        "##### **Team Member 2 -** Govind Kumar Choudhary\n"
      ],
      "metadata": {
        "id": "beRrZCGUAJYm"
      }
    },
    {
      "cell_type": "markdown",
      "source": [
        "# **Project Summary -**"
      ],
      "metadata": {
        "id": "FJNUwmbgGyua"
      }
    },
    {
      "cell_type": "markdown",
      "source": [
        "Study of Hotel bookings related data is vital for any hospitality business as it gives insight into booking behaviour of customers as well as channels through which bookings are made.\n",
        "\n",
        "This project involves the analysis of the provided data set related to Hotel bookings for City and Resort Hotels.\n",
        "\n",
        "Project activities have been categorised as under:\n",
        "\n",
        "1.  Defining the problem statement i.e. Business Objective of the study.\n",
        "2.  Collection and preparation of data by data cleaning , treating outliers etc.\n",
        "3.   Perform exploratory data analysis(EDA) through a deep study of relationship between different features, generate new variables based on need inline with related business objectives. Present the data in easily understandable form.\n",
        "4. Provide observations as well as recommendations based on the EDA."
      ],
      "metadata": {
        "id": "F6v_1wHtG2nS"
      }
    },
    {
      "cell_type": "markdown",
      "source": [
        "# **GitHub Link -**"
      ],
      "metadata": {
        "id": "w6K7xa23Elo4"
      }
    },
    {
      "cell_type": "markdown",
      "source": [
        "https://github.com/omi82/Hotel-Booking-analysis/blob/main/Hotel_Booking_analysis1.ipynb"
      ],
      "metadata": {
        "id": "h1o69JH3Eqqn"
      }
    },
    {
      "cell_type": "markdown",
      "source": [
        "# **Problem Statement**\n"
      ],
      "metadata": {
        "id": "yQaldy8SH6Dl"
      }
    },
    {
      "cell_type": "markdown",
      "source": [
        "* <b> Have you ever wondered when the best time of year to book a hotel room is? Or the optimal length of stay in order to get the best daily rate? What if you wanted to predict whether or not a hotel was likely to receive a disproportionately high number of special requests? This hotel booking dataset can help you explore those questions!\n",
        "\n",
        " <b>This data set contains booking information for a city hotel and a resort hotel, and includes information such as when the booking was made, length of stay, the number of adults, children, and/or babies, and the number of available parking spaces, among other things. All personally identifying information has been removed from the data. </b>\n",
        "\n",
        " <b> Explore and analyze the data to discover important factors that govern the bookings. </b>"
      ],
      "metadata": {
        "id": "DpeJGUA3kjGy"
      }
    },
    {
      "cell_type": "markdown",
      "source": [
        "#### **Define Your Business Objective?**"
      ],
      "metadata": {
        "id": "PH-0ReGfmX4f"
      }
    },
    {
      "cell_type": "markdown",
      "source": [
        "\n",
        "The objective of this data set is to gain insights into hotel booking patterns and cancellations, and to identify the factors that influence these patterns. The goal is to develop predictive models that can accurately predict booking cancellations and to identify potential areas for improvement in hotel policies and practices. Ultimately, the objective is to increase revenue and profitability for hotels by reducing booking cancellations and improving overall customer satisfaction."
      ],
      "metadata": {
        "id": "PhDvGCAqmjP1"
      }
    },
    {
      "cell_type": "markdown",
      "source": [
        "# **General Guidelines** : -  "
      ],
      "metadata": {
        "id": "mDgbUHAGgjLW"
      }
    },
    {
      "cell_type": "markdown",
      "source": [
        "1.   Well-structured, formatted, and commented code is required.\n",
        "2.   Exception Handling, Production Grade Code & Deployment Ready Code will be a plus. Those students will be awarded some additional credits.\n",
        "     \n",
        "     The additional credits will have advantages over other students during Star Student selection.\n",
        "       \n",
        "             [ Note: - Deployment Ready Code is defined as, the whole .ipynb notebook should be executable in one go\n",
        "                       without a single error logged. ]\n",
        "\n",
        "3.   Each and every logic should have proper comments.\n",
        "4. You may add as many number of charts you want. Make Sure for each and every chart the following format should be answered.\n",
        "        \n",
        "\n",
        "```\n",
        "# Chart visualization code\n",
        "```\n",
        "            \n",
        "\n",
        "*   Why did you pick the specific chart?\n",
        "*   What is/are the insight(s) found from the chart?\n",
        "* Will the gained insights help creating a positive business impact?\n",
        "Are there any insights that lead to negative growth? Justify with specific reason.\n",
        "\n",
        "5. You have to create at least 20 logical & meaningful charts having important insights.\n",
        "\n",
        "\n",
        "[ Hints : - Do the Vizualization in  a structured way while following \"UBM\" Rule.\n",
        "\n",
        "U - Univariate Analysis,\n",
        "\n",
        "B - Bivariate Analysis (Numerical - Categorical, Numerical - Numerical, Categorical - Categorical)\n",
        "\n",
        "M - Multivariate Analysis\n",
        " ]\n",
        "\n",
        "\n",
        "\n"
      ],
      "metadata": {
        "id": "ZrxVaUj-hHfC"
      }
    },
    {
      "cell_type": "markdown",
      "source": [
        "# ***Let's Begin !***"
      ],
      "metadata": {
        "id": "O_i_v8NEhb9l"
      }
    },
    {
      "cell_type": "markdown",
      "source": [
        "## ***1. Know Your Data***"
      ],
      "metadata": {
        "id": "HhfV-JJviCcP"
      }
    },
    {
      "cell_type": "markdown",
      "source": [
        "### Import Libraries"
      ],
      "metadata": {
        "id": "Y3lxredqlCYt"
      }
    },
    {
      "cell_type": "code",
      "source": [
        "# Import Libraries\n",
        "import numpy as np\n",
        "import pandas as pd\n",
        "import seaborn as sns\n",
        "import matplotlib.pyplot as plt\n",
        "%matplotlib inline\n",
        "import plotly.express as px\n",
        "import folium"
      ],
      "metadata": {
        "id": "M8Vqi-pPk-HR"
      },
      "execution_count": null,
      "outputs": []
    },
    {
      "cell_type": "markdown",
      "source": [
        "### Dataset Loading"
      ],
      "metadata": {
        "id": "3RnN4peoiCZX"
      }
    },
    {
      "cell_type": "code",
      "source": [
        "# Load Dataset\n",
        "hotel_booking_df = pd.read_csv('/content/Hotel Bookings.csv')\n",
        "\n",
        "# copy original dataset to new dataset\n",
        "df = hotel_booking_df.copy()"
      ],
      "metadata": {
        "id": "4CkvbW_SlZ_R"
      },
      "execution_count": null,
      "outputs": []
    },
    {
      "cell_type": "markdown",
      "source": [
        "### Dataset First View"
      ],
      "metadata": {
        "id": "x71ZqKXriCWQ"
      }
    },
    {
      "cell_type": "code",
      "source": [
        "# Dataset First Look\n",
        "df.head(5)"
      ],
      "metadata": {
        "id": "LWNFOSvLl09H"
      },
      "execution_count": null,
      "outputs": []
    },
    {
      "cell_type": "markdown",
      "source": [
        "### Dataset Rows & Columns count"
      ],
      "metadata": {
        "id": "7hBIi_osiCS2"
      }
    },
    {
      "cell_type": "code",
      "source": [
        "# Dataset Rows & Columns count\n",
        "df.shape\n"
      ],
      "metadata": {
        "id": "Kllu7SJgmLij"
      },
      "execution_count": null,
      "outputs": []
    },
    {
      "cell_type": "code",
      "source": [
        "# Dataset Rows & Columns count\n",
        "print(\"Dataset_Row_count:    \",df.shape[0])\n",
        "print(\"Dataset_Column_count: \",df.shape[1])"
      ],
      "metadata": {
        "id": "Wo0n_Y5tICVN"
      },
      "execution_count": null,
      "outputs": []
    },
    {
      "cell_type": "markdown",
      "source": [
        "### Dataset Information"
      ],
      "metadata": {
        "id": "JlHwYmJAmNHm"
      }
    },
    {
      "cell_type": "code",
      "source": [
        "# Dataset Info\n",
        "df.info()"
      ],
      "metadata": {
        "id": "e9hRXRi6meOf"
      },
      "execution_count": null,
      "outputs": []
    },
    {
      "cell_type": "markdown",
      "source": [
        "#### Duplicate Values"
      ],
      "metadata": {
        "id": "35m5QtbWiB9F"
      }
    },
    {
      "cell_type": "code",
      "source": [
        "# Dataset Duplicate Value Count\n",
        "df.duplicated().value_counts()           # True means duplicated rows"
      ],
      "metadata": {
        "id": "1sLdpKYkmox0"
      },
      "execution_count": null,
      "outputs": []
    },
    {
      "cell_type": "code",
      "source": [
        "# Visualizing the duplicate values\n",
        "plt.figure(figsize=(5,4))\n",
        "sns.countplot(x=df.duplicated())"
      ],
      "metadata": {
        "id": "tQodOKk2gGun"
      },
      "execution_count": null,
      "outputs": []
    },
    {
      "cell_type": "markdown",
      "source": [
        "So we have 31994 are duplicate row  in our  dataset"
      ],
      "metadata": {
        "id": "dW-yyy7kOLiM"
      }
    },
    {
      "cell_type": "markdown",
      "source": [
        "#### Missing Values/Null Values"
      ],
      "metadata": {
        "id": "PoPl-ycgm1ru"
      }
    },
    {
      "cell_type": "code",
      "source": [
        "# Missing Values/Null Values Count\n",
        "Missing_Values = df.isnull().sum().sort_values(ascending=False)\n",
        "Missing_Values[:5]"
      ],
      "metadata": {
        "id": "GgHWkxvamxVg"
      },
      "execution_count": null,
      "outputs": []
    },
    {
      "cell_type": "code",
      "source": [
        "import missingno as msno\n",
        "\n",
        "# Visualize missing values as a matrix\n",
        "msno.bar(df)\n",
        "\n",
        "# Display the plot\n",
        "plt.show()"
      ],
      "metadata": {
        "id": "qRaRue1QIkV0"
      },
      "execution_count": null,
      "outputs": []
    },
    {
      "cell_type": "markdown",
      "source": [
        "### What did you know about your dataset?"
      ],
      "metadata": {
        "id": "H0kj-8xxnORC"
      }
    },
    {
      "cell_type": "markdown",
      "source": [
        "- This dataset conatins 119390 rows and 32 columns\n",
        "-All the columns are diveded into three Dtypes(Object, Float64 and Int64)\n",
        "-This dataset have duplicate as well as missing values. There are 31994 duplicate values and four columns have missing values.\n",
        "-The missing values columns are company, agent, country and children and the missing values are 112593, 16340, 488 & 4 respectively."
      ],
      "metadata": {
        "id": "gfoNAAC-nUe_"
      }
    },
    {
      "cell_type": "markdown",
      "source": [
        "## ***2. Understanding Your Variables***"
      ],
      "metadata": {
        "id": "nA9Y7ga8ng1Z"
      }
    },
    {
      "cell_type": "code",
      "source": [
        "# Dataset Columns\n",
        "list(df.columns)"
      ],
      "metadata": {
        "id": "j7xfkqrt5Ag5"
      },
      "execution_count": null,
      "outputs": []
    },
    {
      "cell_type": "code",
      "source": [
        "# Dataset Describe\n",
        "df.describe()"
      ],
      "metadata": {
        "id": "DnOaZdaE5Q5t"
      },
      "execution_count": null,
      "outputs": []
    },
    {
      "cell_type": "markdown",
      "source": [
        "### Variables Description"
      ],
      "metadata": {
        "id": "PBTbrJXOngz2"
      }
    },
    {
      "cell_type": "markdown",
      "source": [
        "1. **hotel** : *Resort Hotel or City Hotel*\n",
        "\n",
        "2. **is_canceled** : *Value indicating if the booking was canceled (1) or not (0)*\n",
        "\n",
        "3. **lead_time** :*The number of days between the booking date and the arrival date*\n",
        "\n",
        "4. **arrival_date_year** : *Year of arrival date*\n",
        "\n",
        "5. **arrival_date_month** : *Month of arrival date*\n",
        "\n",
        "6. **arrival_date_week_number** : *Week number of year for arrival date*\n",
        "\n",
        "7. **arrival_date_day_of_month** : *Day of arrival date*\n",
        "\n",
        "8. **stays_in_weekend_nights** : *Number of weekend nights (Saturday or Sunday) the guest stayed or booked to stay at the hotel*\n",
        "\n",
        "9. **stays_in_week_nights** : *Number of week nights (Monday to Friday) the guest stayed or booked to stay at the hotel*\n",
        "\n",
        "10. **adults** : *Number of adults*\n",
        "\n",
        "11. **children** : *Number of children*\n",
        "\n",
        "12. **babies** : *Number of babies*\n",
        "\n",
        "13. **meal** : *The type of meal booked (e.g., Bed & Breakfast, Half board):*\n",
        "\n",
        "14. **country** : *Country of origin.*\n",
        "\n",
        "15. **market_segment** : *Market segment designation. In categories, the term “TA” means “Travel Agents” and “TO” means “Tour Operators”*\n",
        "\n",
        "16. **distribution_channel** : *Booking distribution channel. The term “TA” means “Travel Agents” and “TO” means “Tour Operators”*\n",
        "\n",
        "17. **is_repeated_guest** : *Value indicating if the booking name was from a repeated guest (1) or not (0)*\n",
        "\n",
        "18. **previous_cancellations** : *Number of previous bookings that were cancelled by the customer prior to the current booking*\n",
        "\n",
        "19. **previous_bookings_not_canceled** : *Number of previous bookings not cancelled by the customer prior to the current booking*\n",
        "\n",
        "20. **reserved_room_type** : *Code of room type reserved. Code is presented instead of designation for anonymity reasons.*\n",
        "\n",
        "21. **assigned_room_type** : *Code for the type of room assigned to the booking.*\n",
        "\n",
        "22. **booking_changes** : *Number of changes/amendments made to the booking from the moment the booking was entered on the PMS until the moment of check-in or cancellation*\n",
        "\n",
        "23. **deposit_type** : *Indication on if the customer made a deposit to guarantee the booking.*\n",
        "\n",
        "24. **agent** : *ID of the travel agency that made the booking*\n",
        "\n",
        "25. **company** : *ID of the company/entity that made the booking or responsible for paying the booking.*\n",
        "\n",
        "26. **days_in_waiting_list** : *Number of days the booking was in the waiting list before it was confirmed to the customer*\n",
        "\n",
        "27. **customer_type** : *Type of booking, assuming one of four categories*\n",
        "\n",
        "\n",
        "28. **adr** : *The average daily rate (i.e., the sum of all lodging transactions divided by the total number of staying nights)*\n",
        "\n",
        "29. **required_car_parking_spaces** : *Number of car parking spaces required by the customer*\n",
        "\n",
        "30. **total_of_special_requests** :*Number of special requests made by the customer (e.g. twin bed or high floor)*\n",
        "\n",
        "31. **reservation_status** : *Reservation last status, assuming one of three categories*\n",
        "* Canceled – booking was canceled by the customer\n",
        "* Check-Out – customer has checked in but already departed\n",
        "* No-Show – customer did not check-in and did inform the hotel of the reason why\n",
        "\n",
        "\n",
        "\n",
        "\n",
        "\n",
        "32. **reservation_status_date** : *Date at which the last status was set. This variable can be used in conjunction with the ReservationStatus to understand when was the booking canceled or when did the customer checked-out of the hotel*"
      ],
      "metadata": {
        "id": "aJV4KIxSnxay"
      }
    },
    {
      "cell_type": "markdown",
      "source": [
        "### Check Unique Values for each variable."
      ],
      "metadata": {
        "id": "u3PMJOP6ngxN"
      }
    },
    {
      "cell_type": "code",
      "source": [
        "# Check Unique Values for each variable.\n",
        "unique_values = df.nunique()\n",
        "unique_values"
      ],
      "metadata": {
        "id": "zms12Yq5n-jE"
      },
      "execution_count": null,
      "outputs": []
    },
    {
      "cell_type": "markdown",
      "source": [
        "## 3. ***Data Wrangling***"
      ],
      "metadata": {
        "id": "dauF4eBmngu3"
      }
    },
    {
      "cell_type": "markdown",
      "source": [
        "### Data Wrangling Code"
      ],
      "metadata": {
        "id": "bKJF3rekwFvQ"
      }
    },
    {
      "cell_type": "markdown",
      "source": [
        "*** Data Cleaning**"
      ],
      "metadata": {
        "id": "RCPk-d4AJTAD"
      }
    },
    {
      "cell_type": "code",
      "source": [
        "# To fill the null value in the column, let's check which columns has null value, we have all ready store the same\n",
        "Missing_Values[:5]\n"
      ],
      "metadata": {
        "id": "wk-9a2fpoLcV"
      },
      "execution_count": null,
      "outputs": []
    },
    {
      "cell_type": "code",
      "source": [
        "# let's check, what is the percentage of null value in each column\n",
        "percent_missing = Missing_Values * 100 / len(df)\n",
        "percent_missing[:5]"
      ],
      "metadata": {
        "id": "fejlp4fqJsGh"
      },
      "execution_count": null,
      "outputs": []
    },
    {
      "cell_type": "code",
      "source": [
        "# It is better to drop company column there are extremely high values are missing compared to the number of rows\n",
        "df.drop(['company'], axis=1, inplace=True)"
      ],
      "metadata": {
        "id": "hztEhfy9Jxk5"
      },
      "execution_count": null,
      "outputs": []
    },
    {
      "cell_type": "code",
      "source": [
        "# Replacing null values of agent and children with value 0\n",
        "df[['agent','children']] = df[['agent', 'children']].fillna(0)"
      ],
      "metadata": {
        "id": "SbiPdACgJ3NR"
      },
      "execution_count": null,
      "outputs": []
    },
    {
      "cell_type": "code",
      "source": [
        "# Replacing null values of country column with other\n",
        "df[['country']] = df[['country']].fillna('other')"
      ],
      "metadata": {
        "id": "W5feIZkIJ77I"
      },
      "execution_count": null,
      "outputs": []
    },
    {
      "cell_type": "code",
      "source": [
        "#Checking\n",
        "df.isnull().sum().sort_values(ascending=False)[:4]"
      ],
      "metadata": {
        "id": "fo4fTPGIKAFg"
      },
      "execution_count": null,
      "outputs": []
    },
    {
      "cell_type": "code",
      "source": [
        "# Drop the duplicate value\n",
        "df=df.drop_duplicates()\n",
        "df"
      ],
      "metadata": {
        "id": "Pg85HqKLKal5"
      },
      "execution_count": null,
      "outputs": []
    },
    {
      "cell_type": "code",
      "source": [
        "# Checking the shape of the dataset whose combining value of adults, babies and children column is 0\n",
        "df[df['adults']+df['children']+df['babies']==0].shape"
      ],
      "metadata": {
        "id": "BBdisYGZiGhA"
      },
      "execution_count": null,
      "outputs": []
    },
    {
      "cell_type": "code",
      "source": [
        "# Checking the shape of updated data set\n",
        "df.shape"
      ],
      "metadata": {
        "id": "T6H_D2u_iJi4"
      },
      "execution_count": null,
      "outputs": []
    },
    {
      "cell_type": "code",
      "source": [
        "# Creating the copy of the dataset for further analysis\n",
        "hotel_booking_df1 = df.copy()"
      ],
      "metadata": {
        "id": "oWLy3p_YiOEx"
      },
      "execution_count": null,
      "outputs": []
    },
    {
      "cell_type": "code",
      "source": [
        "# Dropping the row where combining values of adults, babies and children is 0 beacause there is no booking\n",
        "hotel_booking_df1.drop(hotel_booking_df1[hotel_booking_df1['adults']+hotel_booking_df1['babies']+hotel_booking_df1['children']==0].index,inplace=True)"
      ],
      "metadata": {
        "id": "M6pvfAOFiR-W"
      },
      "execution_count": null,
      "outputs": []
    },
    {
      "cell_type": "code",
      "source": [
        "hotel_booking_df1.shape      # checking row is drop"
      ],
      "metadata": {
        "id": "BT8IgpmaiYZI"
      },
      "execution_count": null,
      "outputs": []
    },
    {
      "cell_type": "code",
      "source": [
        "# Checking total drop row\n",
        "\n",
        "87389-87223"
      ],
      "metadata": {
        "id": "fncG-l3vSCg-"
      },
      "execution_count": null,
      "outputs": []
    },
    {
      "cell_type": "code",
      "source": [
        "# Checking datetype of column 'reservation_status_date' from object to date_type\n",
        "hotel_booking_df1['reservation_status_date'] = pd.to_datetime(hotel_booking_df1['reservation_status_date'],format='%Y-%m-%d')"
      ],
      "metadata": {
        "id": "K5iesCX0idEl"
      },
      "execution_count": null,
      "outputs": []
    },
    {
      "cell_type": "code",
      "source": [
        "# Changing agent and children data type float64 into int64\n",
        "hotel_booking_df1[['agent','children']]=hotel_booking_df1[['agent','children']].astype('int64')"
      ],
      "metadata": {
        "id": "9f9R6Liq4HQ2"
      },
      "execution_count": null,
      "outputs": []
    },
    {
      "cell_type": "code",
      "source": [
        "hotel_booking_df1.info()  # For cheking changes in reservation_status_date,agent and children datatype"
      ],
      "metadata": {
        "id": "XNaRyNp19tTM"
      },
      "execution_count": null,
      "outputs": []
    },
    {
      "cell_type": "markdown",
      "source": [
        "## *adding some important columns*"
      ],
      "metadata": {
        "id": "zUV54DRykIcr"
      }
    },
    {
      "cell_type": "code",
      "source": [
        "# Adding total stay day in hotel\n",
        "hotel_booking_df1['total_stay'] = hotel_booking_df1['stays_in_week_nights'] + hotel_booking_df1['stays_in_weekend_nights']"
      ],
      "metadata": {
        "id": "UPa1JLMlkRNh"
      },
      "execution_count": null,
      "outputs": []
    },
    {
      "cell_type": "code",
      "source": [
        "# Adding total number of people\n",
        "hotel_booking_df1['total_people']=hotel_booking_df1['adults']+hotel_booking_df1['babies']+hotel_booking_df1['children']"
      ],
      "metadata": {
        "id": "7HrFWiNckVoL"
      },
      "execution_count": null,
      "outputs": []
    },
    {
      "cell_type": "code",
      "source": [
        "# Checking the shape of the dataset\n",
        "hotel_booking_df1.shape"
      ],
      "metadata": {
        "id": "Fy7I7HKSkZdx"
      },
      "execution_count": null,
      "outputs": []
    },
    {
      "cell_type": "markdown",
      "source": [
        "### What all manipulations have you done and insights you found?"
      ],
      "metadata": {
        "id": "MSa1f5Uengrz"
      }
    },
    {
      "cell_type": "markdown",
      "source": [
        "- Here, Company, Agent, Country and Children columns have missing values. Company columns have more than 94% missing values. So, We drop the company columns. Agent columns have more than 13% missing values and Country and Children columns have less than 1% missing values. So missing values of Agent and Children columns are replace with zero and Country values replace with other.\n",
        "- Drop the duplicate values.\n",
        "-Dropping the row where combining values of adults, babies and children is 0 beacause there is no booking\n",
        "-Adding new columns total_stay day in hotel (stays_in_week_nights + stays_in_weekend_nights)\n",
        "- And total_people (adults + children + babies)\n",
        "-New shape of dataset have 87223 rows and 33 columns\n"
      ],
      "metadata": {
        "id": "LbyXE7I1olp8"
      }
    },
    {
      "cell_type": "markdown",
      "source": [
        "## ***4. Data Vizualization, Storytelling & Experimenting with charts : Understand the relationships between variables***"
      ],
      "metadata": {
        "id": "GF8Ens_Soomf"
      }
    },
    {
      "cell_type": "markdown",
      "source": [
        "#### Chart - 1 Most Preffered Hotel"
      ],
      "metadata": {
        "id": "0wOQAZs5pc--"
      }
    },
    {
      "cell_type": "code",
      "source": [
        "# Chart - 1 visualization code\n",
        "# create a pie chart\n",
        "hotel_booking_df1['hotel'].value_counts().plot.pie(figsize=(5,7),fontsize=25, explode=[0.05,0.05], autopct='%1.1f%%', shadow=True)\n",
        "\n",
        "# add a title\n",
        "plt.title('pie chart for more preffered hotel ')\n",
        "\n",
        "# show the chart\n",
        "plt.show()"
      ],
      "metadata": {
        "id": "7v_ESjsspbW7"
      },
      "execution_count": null,
      "outputs": []
    },
    {
      "cell_type": "markdown",
      "source": [
        "##### 1. Why did you pick the specific chart?"
      ],
      "metadata": {
        "id": "K5QZ13OEpz2H"
      }
    },
    {
      "cell_type": "markdown",
      "source": [
        "This pie chart shown the data in which hotel have more booking."
      ],
      "metadata": {
        "id": "XESiWehPqBRc"
      }
    },
    {
      "cell_type": "markdown",
      "source": [
        "##### 2. What is/are the insight(s) found from the chart?"
      ],
      "metadata": {
        "id": "lQ7QKXXCp7Bj"
      }
    },
    {
      "cell_type": "markdown",
      "source": [
        "Here, we have found that city hotel(61.1%) have more booking than resort hotel(38.9%).Hence, using this chart we have say that city hotel have more consumption."
      ],
      "metadata": {
        "id": "C_j1G7yiqdRP"
      }
    },
    {
      "cell_type": "markdown",
      "source": [
        "##### 3. Will the gained insights help creating a positive business impact?\n",
        "Are there any insights that lead to negative growth? Justify with specific reason."
      ],
      "metadata": {
        "id": "448CDAPjqfQr"
      }
    },
    {
      "cell_type": "markdown",
      "source": [
        "Yes, for both hotel this chart show some positive bussiness impact.\n",
        "\n",
        "**City hotel:**  Provided more services to atract more people for more revenue.\n",
        "\n",
        "**Resort hotel:** Increase services to atract more people and also see City Hotel for how they are atracts more people for more revenue."
      ],
      "metadata": {
        "id": "3cspy4FjqxJW"
      }
    },
    {
      "cell_type": "markdown",
      "source": [
        "#### Chart - 2 For Reapeted Guest"
      ],
      "metadata": {
        "id": "KSlN3yHqYklG"
      }
    },
    {
      "cell_type": "code",
      "source": [
        "# Chart - 2 visualization code\n",
        "# create a pie chart\n",
        "hotel_booking_df1['is_repeated_guest'].value_counts().plot.pie(figsize=(5,7),fontsize=25, explode=[0.05,0.05], autopct='%1.1f%%', shadow=False)\n",
        "\n",
        "# add a title\n",
        "plt.title('pie chart for repeated guest ')\n",
        "\n",
        "# show the chart\n",
        "plt.show()"
      ],
      "metadata": {
        "id": "R4YgtaqtYklH"
      },
      "execution_count": null,
      "outputs": []
    },
    {
      "cell_type": "code",
      "source": [
        "# repeated guest=1\n",
        "#not repeated guest=0\n",
        "#groupby hotel\n",
        "repeated_guests_df=hotel_booking_df1[hotel_booking_df1['is_repeated_guest']==1].groupby('hotel').size().reset_index().rename(columns={0:'number_of_repated_guests'})\n",
        "\n",
        "#set plot size adn plot barplot\n",
        "plt.figure(figsize=(10,8))\n",
        "sns.barplot(x=repeated_guests_df['hotel'],y=repeated_guests_df['number_of_repated_guests'])\n",
        "\n",
        "# set labels\n",
        "plt.xlabel('Hotel type')\n",
        "plt.ylabel('count of repeated guests')\n",
        "plt.title(\"Most repeated guests for each hotel\")"
      ],
      "metadata": {
        "id": "klfr-TDxdMPh"
      },
      "execution_count": null,
      "outputs": []
    },
    {
      "cell_type": "markdown",
      "source": [
        "##### 1. Why did you pick the specific chart?"
      ],
      "metadata": {
        "id": "t6dVpIINYklI"
      }
    },
    {
      "cell_type": "markdown",
      "source": [
        "The pie chart show percentage of repeated guest and bar chart show repeated guest for both hotel."
      ],
      "metadata": {
        "id": "5aaW0BYyYklI"
      }
    },
    {
      "cell_type": "markdown",
      "source": [
        "##### 2. What is/are the insight(s) found from the chart?"
      ],
      "metadata": {
        "id": "ijmpgYnKYklI"
      }
    },
    {
      "cell_type": "markdown",
      "source": [
        "In first chart we find only 3.9 percentage repeated guest and In second chart we see city hotel and resort hotel have almost equal repeated guest."
      ],
      "metadata": {
        "id": "PSx9atu2YklI"
      }
    },
    {
      "cell_type": "markdown",
      "source": [
        "##### 3. Will the gained insights help creating a positive business impact?\n",
        "Are there any insights that lead to negative growth? Justify with specific reason."
      ],
      "metadata": {
        "id": "-JiQyfWJYklI"
      }
    },
    {
      "cell_type": "markdown",
      "source": [
        "Yes, for both hotel these chart make some positive bussiness impact.\n",
        "\n",
        "By seeing, the charts of repeated guests and most repeated guests for both hotel show that hotel have 3.9% of guests who are repeats and almost equal for both type of hotel. suggesting an opportunity to focus on customer retention and take feedback of customer to improve our services."
      ],
      "metadata": {
        "id": "BcBbebzrYklV"
      }
    },
    {
      "cell_type": "markdown",
      "source": [
        "#### Chart - 3 Required Car Parking Spaces"
      ],
      "metadata": {
        "id": "EM7whBJCYoAo"
      }
    },
    {
      "cell_type": "code",
      "source": [
        "# Chart - 3 visualization code\n",
        "# create a pie chart\n",
        "hotel_booking_df1['required_car_parking_spaces'].value_counts().plot.pie(figsize=(6,8), legend = (0.85,1), fontsize=12, explode=[0.05]*5, autopct='%1.2f%%', shadow=False)\n",
        "# add a label\n",
        "labels = hotel_booking_df1['required_car_parking_spaces'].value_counts().index\n",
        "# add a title\n",
        "plt.title('required_car_parking_spaces ')\n",
        "# show the chart\n",
        "plt.show()\n"
      ],
      "metadata": {
        "id": "t6GMdE67YoAp"
      },
      "execution_count": null,
      "outputs": []
    },
    {
      "cell_type": "markdown",
      "source": [
        "##### 1. Why did you pick the specific chart?"
      ],
      "metadata": {
        "id": "fge-S5ZAYoAp"
      }
    },
    {
      "cell_type": "markdown",
      "source": [
        "This pie chart show how many percentage people wants car parking space."
      ],
      "metadata": {
        "id": "5dBItgRVYoAp"
      }
    },
    {
      "cell_type": "markdown",
      "source": [
        "##### 2. What is/are the insight(s) found from the chart?"
      ],
      "metadata": {
        "id": "85gYPyotYoAp"
      }
    },
    {
      "cell_type": "markdown",
      "source": [
        "This pie chart shows 91.6% guest does not required car parking space only 8.3% people wants required car parking spaces."
      ],
      "metadata": {
        "id": "4jstXR6OYoAp"
      }
    },
    {
      "cell_type": "markdown",
      "source": [
        "##### 3. Will the gained insights help creating a positive business impact?\n",
        "Are there any insights that lead to negative growth? Justify with specific reason."
      ],
      "metadata": {
        "id": "RoGjAbkUYoAp"
      }
    },
    {
      "cell_type": "markdown",
      "source": [
        "Yes, this chart create a positive bussiness impact for both hotel type\n",
        "\n",
        "Only 8.3% people wants required car parking space. So, the majority of guests do not require a car parking space. hotels may want to consider strategies such as alternative transportation methods and dynamic pricing strategies to optimize the use of parking spaces and generate additional revenue."
      ],
      "metadata": {
        "id": "zfJ8IqMcYoAp"
      }
    },
    {
      "cell_type": "markdown",
      "source": [
        "#### Chart - 4 Most Preffered meal Type"
      ],
      "metadata": {
        "id": "4Of9eVA-YrdM"
      }
    },
    {
      "cell_type": "code",
      "source": [
        "# Chart - 4 visualization code\n",
        "# create a bar chart\n",
        "plt.figure(figsize=(20,6))\n",
        "plt.subplot(1,2,1)\n",
        "plt.title('preffered meal type',fontweight='bold',size=18)\n",
        "sns.barplot (y= list(hotel_booking_df1.meal.value_counts()), x= list(hotel_booking_df1.meal.value_counts().index))\n",
        "plt.subplot(1,2,2)\n",
        "ax=hotel_booking_df1.meal.value_counts().plot(kind='bar')\n",
        "for p in ax.patches:\n",
        "  ax.annotate(str(p.get_height()),(p.get_x()*1.005,p.get_height()*1.005))\n",
        "\n",
        "plt.show()"
      ],
      "metadata": {
        "id": "irlUoxc8YrdO"
      },
      "execution_count": null,
      "outputs": []
    },
    {
      "cell_type": "markdown",
      "source": [
        "##### 1. Why did you pick the specific chart?"
      ],
      "metadata": {
        "id": "iky9q4vBYrdO"
      }
    },
    {
      "cell_type": "markdown",
      "source": [
        "This barplot shows which meal type is more preffered."
      ],
      "metadata": {
        "id": "aJRCwT6DYrdO"
      }
    },
    {
      "cell_type": "markdown",
      "source": [
        "##### 2. What is/are the insight(s) found from the chart?"
      ],
      "metadata": {
        "id": "F6T5p64dYrdO"
      }
    },
    {
      "cell_type": "markdown",
      "source": [
        "Using this chart see that most preffered meal type is BB(67900) followed by SC(9391),HB(9080),Undefined(492) and FB(360)."
      ],
      "metadata": {
        "id": "Xx8WAJvtYrdO"
      }
    },
    {
      "cell_type": "markdown",
      "source": [
        "##### 3. Will the gained insights help creating a positive business impact?\n",
        "Are there any insights that lead to negative growth? Justify with specific reason."
      ],
      "metadata": {
        "id": "y-Ehk30pYrdP"
      }
    },
    {
      "cell_type": "markdown",
      "source": [
        "Yes, this chart show positive bussiness impact for both hotel.\n",
        "\n",
        "Most people like BB types meal. So need to improve quality of other meal type and serve more BB type meal for more people come and more revenue."
      ],
      "metadata": {
        "id": "jLNxxz7MYrdP"
      }
    },
    {
      "cell_type": "markdown",
      "source": [
        "#### Chart - 5 ADR of each Hotel type and ADR across Distribution type"
      ],
      "metadata": {
        "id": "bamQiAODYuh1"
      }
    },
    {
      "cell_type": "code",
      "source": [
        "# Chart - 5 visualization code\n",
        "group_by_hotel = hotel_booking_df1.groupby('hotel')"
      ],
      "metadata": {
        "id": "TIJwrbroYuh3"
      },
      "execution_count": null,
      "outputs": []
    },
    {
      "cell_type": "code",
      "source": [
        "# group by hotel adr\n",
        "highest_adr = group_by_hotel['adr'].mean().reset_index()\n",
        "plt.figure(figsize=(5,4))\n",
        "plt.xlabel('hotel type', fontsize=10)\n",
        "plt.ylabel('adr', fontsize=10)\n",
        "plt.title(\"ADR of each hotel type\", fontsize=10)\n",
        "sns.barplot(x=highest_adr['hotel'],y=highest_adr['adr'])"
      ],
      "metadata": {
        "id": "jPPo1x5Mlgk4"
      },
      "execution_count": null,
      "outputs": []
    },
    {
      "cell_type": "code",
      "source": [
        "# Using groupby distribution channel\n",
        "distribution_channel_df=hotel_booking_df1.groupby(['distribution_channel','hotel'])['adr'].mean().reset_index()\n",
        "# plot bar chart\n",
        "plt.figure(figsize=(12,5))\n",
        "sns.barplot(x='distribution_channel', y='adr',data=distribution_channel_df,hue='hotel')\n",
        "plt.title('ADR across Distribution channel')"
      ],
      "metadata": {
        "id": "iEy5PPfWM0oM"
      },
      "execution_count": null,
      "outputs": []
    },
    {
      "cell_type": "markdown",
      "source": [
        "##### 1. Why did you pick the specific chart?"
      ],
      "metadata": {
        "id": "QHF8YVU7Yuh3"
      }
    },
    {
      "cell_type": "markdown",
      "source": [
        "The first bar chart shows average daily rate(ADR) of both type of hotels. And second bar chart shown average daily rate(ADR) across distribution channel."
      ],
      "metadata": {
        "id": "dcxuIMRPYuh3"
      }
    },
    {
      "cell_type": "markdown",
      "source": [
        "##### 2. What is/are the insight(s) found from the chart?"
      ],
      "metadata": {
        "id": "GwzvFGzlYuh3"
      }
    },
    {
      "cell_type": "markdown",
      "source": [
        "City hotel has the more adr. This means city hotel generates more revenue than the resort hotel. More the adr more the revenue. and Global Distribution System(GDS) has no ADR for resort hotel.AND TA/TO and Carporate type distribution has more ADR for city hotel and direct and undefined type distribution has more ADR for resort hotel."
      ],
      "metadata": {
        "id": "uyqkiB8YYuh3"
      }
    },
    {
      "cell_type": "markdown",
      "source": [
        "##### 3. Will the gained insights help creating a positive business impact?\n",
        "Are there any insights that lead to negative growth? Justify with specific reason."
      ],
      "metadata": {
        "id": "qYpmQ266Yuh3"
      }
    },
    {
      "cell_type": "markdown",
      "source": [],
      "metadata": {
        "id": "_WtzZ_hCYuh4"
      }
    },
    {
      "cell_type": "markdown",
      "source": [
        "#### Chart - 6 Which agent made highest booking"
      ],
      "metadata": {
        "id": "BZR9WyysphqO"
      }
    },
    {
      "cell_type": "code",
      "source": [
        "# Chart - 6 visualization code\n",
        "# return highest bookings made by agents\n",
        "highest_bookings= hotel_booking_df1.groupby(['agent'])['agent'].agg({'count'}).reset_index().rename(columns={'count': \"Most_Bookings\" }).sort_values(by='Most_Bookings',ascending=False)\n",
        "\n",
        " # as agent 0 was NAN value and we replaced it with 0 and indicates no bookings.so droping.\n",
        "highest_bookings.drop(highest_bookings[highest_bookings['agent']==0].index,inplace=True)\n",
        "\n",
        "# taking top 10 bookings made by agent\n",
        "top_ten_highest_bookings=highest_bookings[:10]\n",
        "\n",
        "top_ten_highest_bookings"
      ],
      "metadata": {
        "id": "TdPTWpAVphqO"
      },
      "execution_count": null,
      "outputs": []
    },
    {
      "cell_type": "code",
      "source": [
        "#Visualizaing the graph\n",
        "plt.figure(figsize=(12,5))\n",
        "sns.barplot(x=top_ten_highest_bookings['agent'],y=top_ten_highest_bookings['Most_Bookings'],order=top_ten_highest_bookings['agent'])\n",
        "plt.xlabel('Agent No')\n",
        "plt.ylabel('Number of Bookings')\n",
        "plt.title(\"Most Bookings Made by the agent\")"
      ],
      "metadata": {
        "id": "U3b2oMCI9hqQ"
      },
      "execution_count": null,
      "outputs": []
    },
    {
      "cell_type": "markdown",
      "source": [
        "##### 1. Why did you pick the specific chart?"
      ],
      "metadata": {
        "id": "jj7wYXLtphqO"
      }
    },
    {
      "cell_type": "markdown",
      "source": [
        "This barplot show which agent made highest booking."
      ],
      "metadata": {
        "id": "Ob8u6rCTphqO"
      }
    },
    {
      "cell_type": "markdown",
      "source": [
        "##### 2. What is/are the insight(s) found from the chart?"
      ],
      "metadata": {
        "id": "eZrbJ2SmphqO"
      }
    },
    {
      "cell_type": "markdown",
      "source": [
        "Using this barplot see that top ten booking agent where agent 9 made highest booking followed by agent 240,14,7,250,241,28,8,1 and 6."
      ],
      "metadata": {
        "id": "mZtgC_hjphqO"
      }
    },
    {
      "cell_type": "markdown",
      "source": [
        "##### 3. Will the gained insights help creating a positive business impact?\n",
        "Are there any insights that lead to negative growth? Justify with specific reason."
      ],
      "metadata": {
        "id": "rFu4xreNphqO"
      }
    },
    {
      "cell_type": "markdown",
      "source": [
        "Yess, this chart show positive bussiness impact.\n",
        "\n",
        "Since agent 9 made highest booking. So other agent need to improve their skill to impress more people for hotel booking if possible learn agent 9. Also hotel need to give some offer to agent. Then agent try more people comes to hotel, more revenue wiil be generate."
      ],
      "metadata": {
        "id": "ey_0qi68phqO"
      }
    },
    {
      "cell_type": "markdown",
      "source": [
        "#### Chart - 7 Distribution of Customer Type"
      ],
      "metadata": {
        "id": "OH-pJp9IphqM"
      }
    },
    {
      "cell_type": "code",
      "source": [
        "# Chart - 7 visualization\n",
        "hotel_booking_df1['customer_type'].value_counts().plot.pie(explode=[0.09]*4,shadow=True,autopct='%1.2f%%',figsize=(12,8),fontsize=15,labels=None)\n",
        "\n",
        "labels=hotel_booking_df1['customer_type'].value_counts().index.tolist()\n",
        "plt.title('% Distribution of Customer Type')\n",
        "plt.legend(bbox_to_anchor=(0.85, 1), loc='upper left', labels=labels)\n"
      ],
      "metadata": {
        "id": "kuRf4wtuphqN"
      },
      "execution_count": null,
      "outputs": []
    },
    {
      "cell_type": "markdown",
      "source": [
        "##### 1. Why did you pick the specific chart?"
      ],
      "metadata": {
        "id": "bbFf2-_FphqN"
      }
    },
    {
      "cell_type": "markdown",
      "source": [
        "This pie chart show percentage distribution of customer type."
      ],
      "metadata": {
        "id": "loh7H2nzphqN"
      }
    },
    {
      "cell_type": "markdown",
      "source": [
        "##### 2. What is/are the insight(s) found from the chart?"
      ],
      "metadata": {
        "id": "_ouA3fa0phqN"
      }
    },
    {
      "cell_type": "markdown",
      "source": [
        "This pie chart shown transient type booking are most (82.38%) followed by transient-party(13.4%),contract(3.59%) and group(0.62%)."
      ],
      "metadata": {
        "id": "VECbqPI7phqN"
      }
    },
    {
      "cell_type": "markdown",
      "source": [
        "##### 3. Will the gained insights help creating a positive business impact?\n",
        "Are there any insights that lead to negative growth? Justify with specific reason."
      ],
      "metadata": {
        "id": "Seke61FWphqN"
      }
    },
    {
      "cell_type": "markdown",
      "source": [
        "Yes, This pie chart shown positive business impact.\n",
        "\n",
        "This chart shown that transient type guest are approx 83%. Since Transient bookings often involve individual travelers who may have different price sensitivities and booking behaviors. By analyzing transient booking patterns, hotels can implement dynamic pricing strategies to optimize revenue. This includes adjusting room rates based on demand fluctuations, seasonality, day of the week, and other factors to maximize revenue from transient guests"
      ],
      "metadata": {
        "id": "DW4_bGpfphqN"
      }
    },
    {
      "cell_type": "markdown",
      "source": [
        "#### Chart - 8 Booking by month and Optimal Stay length in hotels"
      ],
      "metadata": {
        "id": "PIIx-8_IphqN"
      }
    },
    {
      "cell_type": "code",
      "source": [
        "# Chart - 8 visualization code\n",
        "# groupby arrival_date_month and taking the hotel count\n",
        "bookings_by_months_df=hotel_booking_df1.groupby(['arrival_date_month'])['hotel'].count().reset_index().rename(columns={'hotel':\"Counts\"})\n",
        "# Create list of months in order\n",
        "months = ['January', 'February', 'March', 'April', 'May', 'June', 'July', 'August', 'September', 'October', 'November', 'December']\n",
        "# creating df which will map the order of above months list without changing its values.\n",
        "bookings_by_months_df['arrival_date_month']=pd.Categorical(bookings_by_months_df['arrival_date_month'],categories=months,ordered=True)\n",
        "# sorting by arrival_date_month\n",
        "bookings_by_months_df=bookings_by_months_df.sort_values('arrival_date_month')\n",
        "\n",
        "bookings_by_months_df"
      ],
      "metadata": {
        "id": "lqAIGUfyphqO"
      },
      "execution_count": null,
      "outputs": []
    },
    {
      "cell_type": "code",
      "source": [
        "\n",
        "# set plot size\n",
        "plt.figure(figsize=(15,6))\n",
        "\n",
        "#pltting lineplot on x- months & y- booking counts\n",
        "sns.lineplot(x=bookings_by_months_df['arrival_date_month'],y=bookings_by_months_df['Counts'])\n",
        "\n",
        "# set title for the plot\n",
        "plt.title('Number of bookings across each month')\n",
        "#set x label\n",
        "plt.xlabel('Month')\n",
        "#set y label\n",
        "plt.ylabel('Number of bookings')"
      ],
      "metadata": {
        "id": "PG4KE3PR6aSr"
      },
      "execution_count": null,
      "outputs": []
    },
    {
      "cell_type": "code",
      "source": [
        "# Using group by function on total_stay and hotel\n",
        "stay = hotel_booking_df1.groupby(['total_stay', 'hotel']).agg('count').reset_index()\n",
        "# Taking only first three columns\n",
        "stay = stay.iloc[:,:3]\n",
        "# Remaining the columns\n",
        "stay = stay.rename(columns={'is_canceled':'Number of stays'})"
      ],
      "metadata": {
        "id": "NsCBUMgKSS9B"
      },
      "execution_count": null,
      "outputs": []
    },
    {
      "cell_type": "code",
      "source": [
        "# Setting plot size for bar chart\n",
        "plt.figure(figsize=(20,10))\n",
        "sns.barplot(x='total_stay', y='Number of stays', hue='hotel',data=stay)\n",
        "# Set labels\n",
        "plt.title('Optimal Stay Length in Both Hotel types', fontsize=15)\n",
        "plt.ylabel('Count of Stay',fontsize=15)\n",
        "plt.xlabel('Total stay(days)',fontsize=15)\n"
      ],
      "metadata": {
        "id": "UU11iy5nUf7o"
      },
      "execution_count": null,
      "outputs": []
    },
    {
      "cell_type": "code",
      "source": [],
      "metadata": {
        "id": "VQ1ZtYZMT6ai"
      },
      "execution_count": null,
      "outputs": []
    },
    {
      "cell_type": "markdown",
      "source": [
        "##### 1. Why did you pick the specific chart?"
      ],
      "metadata": {
        "id": "t27r6nlMphqO"
      }
    },
    {
      "cell_type": "markdown",
      "source": [
        "For first chart we have picked the line chart here because it helps to show small shifts that may be getting hard to spot in other graphs.It helps show trends for different periods.They are easy to understand so,here we can easily track the change of number of bookings with respect to month.\n",
        "\n",
        "In second chart the bar plot has been used this chart shown clear view in understanding the relation between total stay in terms of days and count of stays."
      ],
      "metadata": {
        "id": "iv6ro40sphqO"
      }
    },
    {
      "cell_type": "markdown",
      "source": [
        "##### 2. What is/are the insight(s) found from the chart?"
      ],
      "metadata": {
        "id": "r2jJGEOYphqO"
      }
    },
    {
      "cell_type": "markdown",
      "source": [
        "In the first chart we have found that July and August had the most booking.\n",
        "\n",
        "In the second chart we found optimal stay in both type hotel is less than 7 days. And after that staying number is declined."
      ],
      "metadata": {
        "id": "Po6ZPi4hphqO"
      }
    },
    {
      "cell_type": "markdown",
      "source": [
        "##### 3. Will the gained insights help creating a positive business impact?\n",
        "Are there any insights that lead to negative growth? Justify with specific reason."
      ],
      "metadata": {
        "id": "KBTFXqYoaFKh"
      }
    },
    {
      "cell_type": "markdown",
      "source": [
        "Yes this provides good insights that hotels should well prepared for the month of July and August as maximum booking take place in this month. So better the preparation and good approach will definately add to the growth of Hotels.\n",
        "\n",
        "While second chart also have positive impact,the insight gathered from this chart,hotels can work in the domain to increase the staying length of customer to increase their revenue.The other understanding is that customers usually prefers a one week stay in hotels needs to work efficiently in these seven days so that customers would return to the same hotels again so this will increase the hotel revenue."
      ],
      "metadata": {
        "id": "toijNhDyanR7"
      }
    },
    {
      "cell_type": "markdown",
      "source": [
        "#### Chart - 9 Which year had the highest booking"
      ],
      "metadata": {
        "id": "YJ55k-q6phqO"
      }
    },
    {
      "cell_type": "code",
      "source": [
        "# Chart - 9 visualization code\n",
        "# set plot size\n",
        "plt.figure(figsize=(12,5))\n",
        "\n",
        "#  plot with countplot\n",
        "sns.countplot(x=hotel_booking_df1['arrival_date_year'],hue=df['hotel'])\n",
        "plt.title(\"Year Wise bookings\")\n"
      ],
      "metadata": {
        "id": "B2aS4O1ophqO"
      },
      "execution_count": null,
      "outputs": []
    },
    {
      "cell_type": "markdown",
      "source": [
        "##### 1. Why did you pick the specific chart?"
      ],
      "metadata": {
        "id": "gCFgpxoyphqP"
      }
    },
    {
      "cell_type": "markdown",
      "source": [
        "This bar chart shown year-wise booking pattern of both type of hotels"
      ],
      "metadata": {
        "id": "TVxDimi2phqP"
      }
    },
    {
      "cell_type": "markdown",
      "source": [
        "##### 2. What is/are the insight(s) found from the chart?"
      ],
      "metadata": {
        "id": "OVtJsKN_phqQ"
      }
    },
    {
      "cell_type": "markdown",
      "source": [
        "This bar chart shown year wise booking of hotels. In 2015 almost equal booking for both type of hotels and In 2016 hotels booking increases for both type of hotels and also see that city hotel have more booking compare to resort hotel In 2017 booking for both types of hotel decreases compare to 2016."
      ],
      "metadata": {
        "id": "ngGi97qjphqQ"
      }
    },
    {
      "cell_type": "markdown",
      "source": [
        "##### 3. Will the gained insights help creating a positive business impact?\n",
        "Are there any insights that lead to negative growth? Justify with specific reason."
      ],
      "metadata": {
        "id": "lssrdh5qphqQ"
      }
    },
    {
      "cell_type": "markdown",
      "source": [
        "By seeing previous year booking we can analyse, why 2016 have more booking, by analysing these three years data we have try to improve booking comming years."
      ],
      "metadata": {
        "id": "tBpY5ekJphqQ"
      }
    },
    {
      "cell_type": "markdown",
      "source": [
        "#### Chart - 10 From which country most guest are coming?"
      ],
      "metadata": {
        "id": "U2RJ9gkRphqQ"
      }
    },
    {
      "cell_type": "code",
      "source": [
        "# Chart - 10 visualization code\n",
        "guest_country = hotel_booking_df1[hotel_booking_df1['is_canceled'] == 0]['country'].value_counts().reset_index()\n",
        "guest_country.columns = ['Country', 'No of guests']\n",
        "guest_country"
      ],
      "metadata": {
        "id": "GM7a4YP4phqQ"
      },
      "execution_count": null,
      "outputs": []
    },
    {
      "cell_type": "code",
      "source": [
        "basemap = folium.Map()\n",
        "ax = px.choropleth(guest_country, locations = guest_country['Country'],\n",
        "                           color = guest_country['No of guests'], hover_name = guest_country['Country'])\n",
        "ax.show()"
      ],
      "metadata": {
        "id": "JDaVS79PPt-b"
      },
      "execution_count": null,
      "outputs": []
    },
    {
      "cell_type": "code",
      "source": [
        "# Counting the guests from various countries.\n",
        "country_df=hotel_booking_df1['country'].value_counts().reset_index().rename(columns={'index': 'country','country': 'count of guests'})[:10]\n",
        "\n",
        "# Visualizing by  plotting the graph\n",
        "plt.figure(figsize=(20,8))\n",
        "sns.barplot(x=country_df['country'],y=country_df['count of guests'])\n",
        "plt.xlabel('Country')\n",
        "plt.ylabel('Number of guests',fontsize=12)\n",
        "plt.title(\"Number of guests from diffrent Countries\")\n",
        "print(\"\\n\\nPRT = Portugal\\nGBR = Great Britain & Northern Ireland\\nFRA = France\\nESP = Spain\\nDEU = Germany\\nITA = Italy\\nIRL = Ireland\\nBRA = Brazil\\nBEL = Belgium\\nNLD = Netherland\")"
      ],
      "metadata": {
        "id": "PZZ6IB1pQEM6"
      },
      "execution_count": null,
      "outputs": []
    },
    {
      "cell_type": "markdown",
      "source": [
        "##### 1. Why did you pick the specific chart?"
      ],
      "metadata": {
        "id": "1M8mcRywphqQ"
      }
    },
    {
      "cell_type": "markdown",
      "source": [
        "In First Plot we have used folium map to see number of guest from each country .And The bar chart shown highest booking made by top 10 country."
      ],
      "metadata": {
        "id": "8agQvks0phqQ"
      }
    },
    {
      "cell_type": "markdown",
      "source": [
        "##### 2. What is/are the insight(s) found from the chart?"
      ],
      "metadata": {
        "id": "tgIPom80phqQ"
      }
    },
    {
      "cell_type": "markdown",
      "source": [
        "This chart shown, people from about 166 countries visited the hotels,most of the guests are local i.e. from Portugal. Among overseas visitors, European neighbours like United Kingdom, France, Spain, Germany, Italy had a lion's share."
      ],
      "metadata": {
        "id": "Qp13pnNzphqQ"
      }
    },
    {
      "cell_type": "markdown",
      "source": [
        "##### 3. Will the gained insights help creating a positive business impact?\n",
        "Are there any insights that lead to negative growth? Justify with specific reason."
      ],
      "metadata": {
        "id": "JMzcOPDDphqR"
      }
    },
    {
      "cell_type": "markdown",
      "source": [
        "Since, most of the guests are local i.e. from Portugal. Among overseas visitors, European neighbours like United Kingdom, France, Spain, Germany, Italy had a lion's share.\n",
        "\n",
        "So, we need to give timely offer for local guests and European neighbours to come and book hotel and make sure, If possible they were stay for a longer time.So we can generates more revenue."
      ],
      "metadata": {
        "id": "R4Ka1PC2phqR"
      }
    },
    {
      "cell_type": "markdown",
      "source": [
        "#### Chart - 11 Which distribution channel had highest booking and cancellation"
      ],
      "metadata": {
        "id": "x-EpHcCOp1ci"
      }
    },
    {
      "cell_type": "code",
      "source": [
        "# Chart - 11 visualization code\n",
        "#Creating labels\n",
        "labels=hotel_booking_df1['distribution_channel'].value_counts().index.tolist()\n",
        "\n",
        "# creating new df of distribution channel\n",
        "distribution_channel_df=hotel_booking_df1['distribution_channel'].value_counts().reset_index().rename(columns={'index':\"distribution_channel\",'distribution_channel':'count'})\n",
        "\n",
        "#adding percentage columns to the distribution_channel_df\n",
        "distribution_channel_df['percentage']=round(distribution_channel_df['count']*100/df.shape[0],1)\n",
        "\n",
        "#Creating list of percentage\n",
        "sizes=distribution_channel_df['percentage'].values.tolist()\n",
        "\n",
        "#plotting the piw chart\n",
        "hotel_booking_df['distribution_channel'].value_counts().plot.pie(explode=[0.05]*5, shadow=False, figsize=(15,8),fontsize=10,labels=None)\n",
        "\n",
        "# setting legends with the percentage values\n",
        "labels = [f'{l}, {s}%' for l, s in zip(labels, sizes)]\n",
        "plt.legend(bbox_to_anchor=(0.85, 1), loc='upper left', labels=labels)\n",
        "plt.title(' Mostly Used Distribution Channel for Hotel Bookings ')"
      ],
      "metadata": {
        "id": "mAQTIvtqp1cj"
      },
      "execution_count": null,
      "outputs": []
    },
    {
      "cell_type": "code",
      "source": [
        "canceled_df=hotel_booking_df1[hotel_booking_df1['is_canceled']==1] # 1= canceled\n",
        "\n",
        "#group by distribution channel\n",
        "canceled_df=canceled_df.groupby(['distribution_channel','hotel']).size().reset_index().rename(columns={0:'Counts'})\n",
        "canceled_df\n",
        "\n",
        "#set plot size and plot barchart\n",
        "plt.figure(figsize=(8,5))\n",
        "sns.barplot(x='distribution_channel',y='Counts',hue=\"hotel\",data=canceled_df)\n",
        "\n",
        "# set labels\n",
        "plt.xlabel('Distribution channel')\n",
        "plt.ylabel('counts')\n",
        "plt.title('Cancellation Rate Vs Distribution channel')"
      ],
      "metadata": {
        "id": "ou50q0QWCyHZ"
      },
      "execution_count": null,
      "outputs": []
    },
    {
      "cell_type": "markdown",
      "source": [
        "##### 1. Why did you pick the specific chart?"
      ],
      "metadata": {
        "id": "X_VqEhTip1ck"
      }
    },
    {
      "cell_type": "markdown",
      "source": [
        "The following chart represent maximum percentage of booking done through which channel and which channel have more cancellation rate for both hotel."
      ],
      "metadata": {
        "id": "-vsMzt_np1ck"
      }
    },
    {
      "cell_type": "markdown",
      "source": [
        "##### 2. What is/are the insight(s) found from the chart?"
      ],
      "metadata": {
        "id": "8zGJKyg5p1ck"
      }
    },
    {
      "cell_type": "markdown",
      "source": [
        "As clearly seen TA/TO (Tour Agent/Tour Operator) made highest booking and also TA/TO have highest cancellation rate for both hotel."
      ],
      "metadata": {
        "id": "ZYdMsrqVp1ck"
      }
    },
    {
      "cell_type": "markdown",
      "source": [
        "##### 3. Will the gained insights help creating a positive business impact?\n",
        "Are there any insights that lead to negative growth? Justify with specific reason."
      ],
      "metadata": {
        "id": "PVzmfK_Ep1ck"
      }
    },
    {
      "cell_type": "markdown",
      "source": [
        "The most common distribution channel for hotel booking is TA/TO(57.9%) followed by Direct(10.9%) and corporate(4.3%). And also highest cancellation rate for both hotel is TA/TO. The cancellation rate is lower for bookings made directly with the hotel. These insights suggest that hotels may want to focus on strategies to encourage more direct bookings and reduce reliance on TA/TO, which may help to improve the overall cancellation rate and increase customer loyalty."
      ],
      "metadata": {
        "id": "druuKYZpp1ck"
      }
    },
    {
      "cell_type": "markdown",
      "source": [
        "#### Chart - 12 Relationship between repeated guests and previous booking not cancelled"
      ],
      "metadata": {
        "id": "n3dbpmDWp1ck"
      }
    },
    {
      "cell_type": "code",
      "source": [
        "# Chart - 12 visualization code\n",
        "repeated_guests_df=hotel_booking_df1[hotel_booking_df1['is_repeated_guest']==1]\n",
        "repeated_guests_df_1=hotel_booking_df1[hotel_booking_df1['is_repeated_guest']==0]\n",
        "plt.figure(figsize=(8,5))\n",
        "sns.barplot(x=hotel_booking_df1['is_repeated_guest'],y= hotel_booking_df1['previous_bookings_not_canceled'])\n",
        "plt.xticks([0,1],['Not_repeated_guests','repeated_guests'],fontsize=15)\n",
        "plt.title('Relationship Between repeated guests and previous bookings not cancelled.')\n",
        "plt.show()"
      ],
      "metadata": {
        "id": "bwevp1tKp1ck"
      },
      "execution_count": null,
      "outputs": []
    },
    {
      "cell_type": "markdown",
      "source": [
        "**Percentage of booking cancellation**"
      ],
      "metadata": {
        "id": "GZoEDYyrBLhO"
      }
    },
    {
      "cell_type": "code",
      "source": [
        "# booking canceled=1\n",
        "# booking not canceled= 0\n",
        "\n",
        "# creating new DataFrame where bookings are cancelled.\n",
        "canceled_df=hotel_booking_df1[hotel_booking_df1['is_canceled']==1]\n",
        "\n",
        "# Grouping by hotel\n",
        "canceled_df=canceled_df.groupby('hotel').size().reset_index().rename(columns={0: \"no_of_cancelled_bookings\"})\n",
        "\n",
        "# adding 'total booking column for calculating the percentage.\n",
        "canceled_df['total_booikngs']=hotel_booking_df1.groupby('hotel').size().reset_index().rename(columns={0:\"total_bookings\"}).drop('hotel',axis=1)\n",
        "canceled_df\n",
        "\n",
        "#plotting the barchat\n",
        "plt.figure(figsize=(8,5))\n",
        "sns.barplot(x=canceled_df['hotel'],y=canceled_df['no_of_cancelled_bookings']*100/canceled_df['total_booikngs'])\n",
        "\n",
        "#set labels\n",
        "plt.xlabel('Hotel type')\n",
        "plt.ylabel('Percentage(%)')\n",
        "plt.title(\"Percentage of booking cancellation\")"
      ],
      "metadata": {
        "id": "aVWjsFkTA18X"
      },
      "execution_count": null,
      "outputs": []
    },
    {
      "cell_type": "markdown",
      "source": [
        "##### 1. Why did you pick the specific chart?"
      ],
      "metadata": {
        "id": "ylSl6qgtp1ck"
      }
    },
    {
      "cell_type": "markdown",
      "source": [
        "Answer Here."
      ],
      "metadata": {
        "id": "m2xqNkiQp1ck"
      }
    },
    {
      "cell_type": "markdown",
      "source": [
        "##### 2. What is/are the insight(s) found from the chart?"
      ],
      "metadata": {
        "id": "ZWILFDl5p1ck"
      }
    },
    {
      "cell_type": "markdown",
      "source": [
        "Answer Here"
      ],
      "metadata": {
        "id": "x-lUsV2mp1ck"
      }
    },
    {
      "cell_type": "markdown",
      "source": [
        "##### 3. Will the gained insights help creating a positive business impact?\n",
        "Are there any insights that lead to negative growth? Justify with specific reason."
      ],
      "metadata": {
        "id": "M7G43BXep1ck"
      }
    },
    {
      "cell_type": "markdown",
      "source": [
        "Bar Graph has been used to display the average cancellations of city Hotel Count and Resort Hotel.\n",
        "\n",
        "More bookings were cancelled for City hotels got as compared to those for Resort Hotels."
      ],
      "metadata": {
        "id": "5wwDJXsLp1cl"
      }
    },
    {
      "cell_type": "markdown",
      "source": [
        "#### Chart - 13  Plotting Histogram"
      ],
      "metadata": {
        "id": "Ag9LCva-p1cl"
      }
    },
    {
      "cell_type": "code",
      "source": [
        "# Chart - 13 visualization code\n",
        "hotel_booking_df1.hist(figsize=(24,18))\n",
        "plt.show()"
      ],
      "metadata": {
        "id": "EUfxeq9-p1cl"
      },
      "execution_count": null,
      "outputs": []
    },
    {
      "cell_type": "markdown",
      "source": [
        "##### 1. Why did you pick the specific chart?"
      ],
      "metadata": {
        "id": "E6MkPsBcp1cl"
      }
    },
    {
      "cell_type": "markdown",
      "source": [
        "To understanding the data in clear way with proper insights,I have used the histogram here.It is used to summarize discrete or continuous data that are measured on an interval scale.It is often used to illustrate the major features of the distribution of the data in convenient form.It is also useful when dealing with large data sets.It can help detect any unusual observation (outlier) or any gaps in the data.Thus we have used the histogram plot to analysis the variable distribution over the whole dataset whether it's symmetric or not."
      ],
      "metadata": {
        "id": "V22bRsFWp1cl"
      }
    },
    {
      "cell_type": "markdown",
      "source": [
        "##### 2. What is/are the insight(s) found from the chart?"
      ],
      "metadata": {
        "id": "2cELzS2fp1cl"
      }
    },
    {
      "cell_type": "markdown",
      "source": [
        "Some insights found the chart as follows:\n",
        "\n",
        "-  We can see that the maximum guest came in the year 2016.\n",
        "\n",
        "-  Maximum arrival week number is 30.\n",
        "\n",
        "-  Maximum arrival happens in the last of the month.\n",
        "\n",
        "-  Maximum guests comes with no children.\n",
        "\n",
        "-  There is very less requirement of car parking space."
      ],
      "metadata": {
        "id": "ozQPc2_Ip1cl"
      }
    },
    {
      "cell_type": "markdown",
      "source": [
        "##### 3. Will the gained insights help creating a positive business impact?\n",
        "Are there any insights that lead to negative growth? Justify with specific reason."
      ],
      "metadata": {
        "id": "3MPXvC8up1cl"
      }
    },
    {
      "cell_type": "markdown",
      "source": [
        "Histogram can not define business impact. it's just to see the distribution of the column data over the dataset"
      ],
      "metadata": {
        "id": "GL8l1tdLp1cl"
      }
    },
    {
      "cell_type": "markdown",
      "source": [
        "#### Chart - 14 - Correlation Heatmap"
      ],
      "metadata": {
        "id": "NC_X3p0fY2L0"
      }
    },
    {
      "cell_type": "code",
      "source": [
        "# Correlation Heatmap visualization code\n",
        "plt.figure(figsize=(18,10))\n",
        "sns.heatmap(hotel_booking_df1.corr(),annot=True)\n",
        "plt.title('Co-relation of the columns')"
      ],
      "metadata": {
        "id": "xyC9zolEZNRQ"
      },
      "execution_count": null,
      "outputs": []
    },
    {
      "cell_type": "markdown",
      "source": [
        "##### 1. Why did you pick the specific chart?"
      ],
      "metadata": {
        "id": "UV0SzAkaZNRQ"
      }
    },
    {
      "cell_type": "markdown",
      "source": [
        "Heatmap is considered one of the best chart to visualize correlation between different numerical variables in a dataframe."
      ],
      "metadata": {
        "id": "DVPuT8LYZNRQ"
      }
    },
    {
      "cell_type": "markdown",
      "source": [
        "##### 2. What is/are the insight(s) found from the chart?"
      ],
      "metadata": {
        "id": "YPEH6qLeZNRQ"
      }
    },
    {
      "cell_type": "markdown",
      "source": [
        "Using this heatmap we can clearly see that the highest correlation value is 0.95 and lowest correlation value is -0.51."
      ],
      "metadata": {
        "id": "bfSqtnDqZNRR"
      }
    },
    {
      "cell_type": "markdown",
      "source": [
        "#### Chart - 15 - Pair Plot"
      ],
      "metadata": {
        "id": "q29F0dvdveiT"
      }
    },
    {
      "cell_type": "code",
      "source": [
        "# Pair Plot visualization code\n",
        "\n",
        "# Select the columns for the pair plot\n",
        "columns_for_pairplot = ['lead_time', 'adr', 'total_stay', 'is_repeated_guest', 'previous_cancellations', 'booking_changes', 'total_of_special_requests']\n",
        "\n",
        "# Create a new DataFrame with only the selected columns\n",
        "df_selected = hotel_booking_df1[columns_for_pairplot]\n",
        "\n",
        "# Create the pair plot\n",
        "sns.pairplot(df_selected)\n",
        "\n",
        "# Display the plot\n",
        "plt.show()\n",
        "\n"
      ],
      "metadata": {
        "id": "o58-TEIhveiU"
      },
      "execution_count": null,
      "outputs": []
    },
    {
      "cell_type": "markdown",
      "source": [
        "##### 1. Why did you pick the specific chart?"
      ],
      "metadata": {
        "id": "EXh0U9oCveiU"
      }
    },
    {
      "cell_type": "markdown",
      "source": [
        "Pair plot is a visualization technique used to explore the relationship between multiple variables in a dataset. It is particularly useful to understand the pairwise interactions between them."
      ],
      "metadata": {
        "id": "eMmPjTByveiU"
      }
    },
    {
      "cell_type": "markdown",
      "source": [
        "##### 2. What is/are the insight(s) found from the chart?"
      ],
      "metadata": {
        "id": "22aHeOlLveiV"
      }
    },
    {
      "cell_type": "markdown",
      "source": [
        "This graph show relationship between lead_time, adr, total_stay, is_repeated_guest, previous_cancellations, booking_changes and total_of_special_requests."
      ],
      "metadata": {
        "id": "uPQ8RGwHveiV"
      }
    },
    {
      "cell_type": "markdown",
      "source": [
        "## **5. Solution to Business Objective**"
      ],
      "metadata": {
        "id": "JcMwzZxoAimU"
      }
    },
    {
      "cell_type": "markdown",
      "source": [
        "#### What do you suggest the client to achieve Business Objective ?\n",
        "Explain Briefly."
      ],
      "metadata": {
        "id": "8G2x9gOozGDZ"
      }
    },
    {
      "cell_type": "markdown",
      "source": [
        "-->  Our business objective was to increase bookings, decrease cancellations, and increase customer retention while also extending stays. Based on our investigation, some recommendations we came up with are as follows:\n",
        "\n",
        "-  Additional public marketing can help raise the number of visitors from  certain nations. Even after they depart, more effort can be taken to keep them by keeping in touch with them by personalised emails, phone calls, etc.\n",
        "\n",
        "-  Agents and market sectors that bring in more clients should also be recognised with awards and incentives.\n",
        "\n",
        "-  Cancellations had a strong connection with new clients. If new clients are prone to cancel, further efforts should be taken to retain them by providing discounts and offers. Additionally, greater efforts should be made to retain clients as Repeated clients generally cancel less bookings.\n",
        "\n",
        "-  Data from each visitor's stay can be used to send them personalized offers to maximize their chances of booking again.\n",
        "\n",
        "-  Launching customer loyalty programmes to reward loyal customers.\n",
        "\n",
        "-  The period of each visitor's stay can be utilized to create a clever pricing model that should prolong one‘s stay.\n",
        "\n",
        "-  Extra efforts should be made to foster positive relationships with clients which can be done by sending them engaging emails, such as \"Thank you\" and \"Happy Holidays\",etc.\n",
        "\n",
        "-  Good customer evaluations can have a significant impact on a hotel's brand value, and it is important to consider customer feedback and reviews in order to improve hotel amenities and the guest experience.\n",
        "\n"
      ],
      "metadata": {
        "id": "pASKb0qOza21"
      }
    },
    {
      "cell_type": "markdown",
      "source": [
        "# **Conclusion**"
      ],
      "metadata": {
        "id": "gCX9965dhzqZ"
      }
    },
    {
      "cell_type": "markdown",
      "source": [
        "1. City hotels are the most preferred hotel type by the guests. We can say City hotel is the busiest hotel.\n",
        "2.City hotel have higher cancellation rate compare to resort hotel.\n",
        "3. Only 3.9 % people were revisited the hotels. Rest 96.1 % were new guests. Thus retention rate is low.\n",
        "4. The percentage of 0 changes made in the booking was more than 82 %. Percentage of Single changes made was about 10%.\n",
        "5. Most of the customers (91.6%) do not require car parking spaces.\n",
        "6. 79.1 % bookings were made through TA/TO (travel agents/Tour operators).\n",
        "7. BB( Bed & Breakfast) is the most preferred type of meal by the guests.\n",
        "8. Maximum number of guests were from Portugal, i.e. more than 25000 guests.\n",
        "9. Most of the bookings for City hotels and Resort hotel were happened in 2016.\n",
        "10. Average ADR for city hotel is high as compared to resort hotels. These City hotels are generating more revenue than the resort hotels.\n",
        "11. Most of the guest are transient(82.4%) type.\n",
        "12. Average lead time for resort hotel is high.\n",
        "13. Waiting time period for City hotel is high as compared to resort hotels. That means city hotels are much busier than Resort hotels.\n",
        "14. Resort hotels have the most repeated guests.\n",
        "15. Optimal stay in both the type hotel is less than 7 days. Usually people stay for a week.\n"
      ],
      "metadata": {
        "id": "Fjb1IsQkh3yE"
      }
    },
    {
      "cell_type": "markdown",
      "source": [
        "### ***Hurrah! You have successfully completed your EDA Capstone Project !!!***"
      ],
      "metadata": {
        "id": "gIfDvo9L0UH2"
      }
    }
  ]
}